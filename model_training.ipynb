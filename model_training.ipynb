{
 "cells": [
  {
   "cell_type": "code",
   "execution_count": null,
   "id": "8e77f55a",
   "metadata": {},
   "outputs": [
    {
     "data": {
      "application/vnd.microsoft.datawrangler.viewer.v0+json": {
       "columns": [
        {
         "name": "index",
         "rawType": "int64",
         "type": "integer"
        },
        {
         "name": "Age",
         "rawType": "float64",
         "type": "float"
        },
        {
         "name": "Gender",
         "rawType": "object",
         "type": "string"
        },
        {
         "name": "Education Level",
         "rawType": "object",
         "type": "string"
        },
        {
         "name": "Job Title",
         "rawType": "object",
         "type": "string"
        },
        {
         "name": "Years of Experience",
         "rawType": "float64",
         "type": "float"
        },
        {
         "name": "Salary",
         "rawType": "float64",
         "type": "float"
        }
       ],
       "ref": "b88dc377-6f28-425f-b55b-6ae4093c1a63",
       "rows": [
        [
         "0",
         "32.0",
         "Male",
         "Bachelor's",
         "Software Engineer",
         "5.0",
         "90000.0"
        ],
        [
         "1",
         "28.0",
         "Female",
         "Master's",
         "Data Analyst",
         "3.0",
         "65000.0"
        ],
        [
         "2",
         "45.0",
         "Male",
         "PhD",
         "Senior Manager",
         "15.0",
         "150000.0"
        ],
        [
         "3",
         "36.0",
         "Female",
         "Bachelor's",
         "Sales Associate",
         "7.0",
         "60000.0"
        ],
        [
         "4",
         "52.0",
         "Male",
         "Master's",
         "Director",
         "20.0",
         "200000.0"
        ]
       ],
       "shape": {
        "columns": 6,
        "rows": 5
       }
      },
      "text/html": [
       "<div>\n",
       "<style scoped>\n",
       "    .dataframe tbody tr th:only-of-type {\n",
       "        vertical-align: middle;\n",
       "    }\n",
       "\n",
       "    .dataframe tbody tr th {\n",
       "        vertical-align: top;\n",
       "    }\n",
       "\n",
       "    .dataframe thead th {\n",
       "        text-align: right;\n",
       "    }\n",
       "</style>\n",
       "<table border=\"1\" class=\"dataframe\">\n",
       "  <thead>\n",
       "    <tr style=\"text-align: right;\">\n",
       "      <th></th>\n",
       "      <th>Age</th>\n",
       "      <th>Gender</th>\n",
       "      <th>Education Level</th>\n",
       "      <th>Job Title</th>\n",
       "      <th>Years of Experience</th>\n",
       "      <th>Salary</th>\n",
       "    </tr>\n",
       "  </thead>\n",
       "  <tbody>\n",
       "    <tr>\n",
       "      <th>0</th>\n",
       "      <td>32.0</td>\n",
       "      <td>Male</td>\n",
       "      <td>Bachelor's</td>\n",
       "      <td>Software Engineer</td>\n",
       "      <td>5.0</td>\n",
       "      <td>90000.0</td>\n",
       "    </tr>\n",
       "    <tr>\n",
       "      <th>1</th>\n",
       "      <td>28.0</td>\n",
       "      <td>Female</td>\n",
       "      <td>Master's</td>\n",
       "      <td>Data Analyst</td>\n",
       "      <td>3.0</td>\n",
       "      <td>65000.0</td>\n",
       "    </tr>\n",
       "    <tr>\n",
       "      <th>2</th>\n",
       "      <td>45.0</td>\n",
       "      <td>Male</td>\n",
       "      <td>PhD</td>\n",
       "      <td>Senior Manager</td>\n",
       "      <td>15.0</td>\n",
       "      <td>150000.0</td>\n",
       "    </tr>\n",
       "    <tr>\n",
       "      <th>3</th>\n",
       "      <td>36.0</td>\n",
       "      <td>Female</td>\n",
       "      <td>Bachelor's</td>\n",
       "      <td>Sales Associate</td>\n",
       "      <td>7.0</td>\n",
       "      <td>60000.0</td>\n",
       "    </tr>\n",
       "    <tr>\n",
       "      <th>4</th>\n",
       "      <td>52.0</td>\n",
       "      <td>Male</td>\n",
       "      <td>Master's</td>\n",
       "      <td>Director</td>\n",
       "      <td>20.0</td>\n",
       "      <td>200000.0</td>\n",
       "    </tr>\n",
       "  </tbody>\n",
       "</table>\n",
       "</div>"
      ],
      "text/plain": [
       "    Age  Gender Education Level          Job Title  Years of Experience  \\\n",
       "0  32.0    Male      Bachelor's  Software Engineer                  5.0   \n",
       "1  28.0  Female        Master's       Data Analyst                  3.0   \n",
       "2  45.0    Male             PhD     Senior Manager                 15.0   \n",
       "3  36.0  Female      Bachelor's    Sales Associate                  7.0   \n",
       "4  52.0    Male        Master's           Director                 20.0   \n",
       "\n",
       "     Salary  \n",
       "0   90000.0  \n",
       "1   65000.0  \n",
       "2  150000.0  \n",
       "3   60000.0  \n",
       "4  200000.0  "
      ]
     },
     "execution_count": 5,
     "metadata": {},
     "output_type": "execute_result"
    }
   ],
   "source": [
    "import pandas as pd\n",
    "\n",
    "# Loading  the CSV file into a DataFrame\n",
    "df = pd.read_csv(r\"C:\\Users\\sanke\\Downloads\\salaryData.csv\")\n",
    "\n",
    "# Display the first few rows of the DataFrame\n",
    "df.head()"
   ]
  },
  {
   "cell_type": "code",
   "execution_count": 6,
   "id": "c7f7bb03",
   "metadata": {},
   "outputs": [
    {
     "data": {
      "text/plain": [
       "(375, 6)"
      ]
     },
     "execution_count": 6,
     "metadata": {},
     "output_type": "execute_result"
    }
   ],
   "source": [
    "# Display the shape of the DataFrame\n",
    "df.shape"
   ]
  },
  {
   "cell_type": "code",
   "execution_count": 7,
   "id": "85ca6159",
   "metadata": {},
   "outputs": [
    {
     "data": {
      "application/vnd.microsoft.datawrangler.viewer.v0+json": {
       "columns": [
        {
         "name": "index",
         "rawType": "object",
         "type": "string"
        },
        {
         "name": "Age",
         "rawType": "float64",
         "type": "float"
        },
        {
         "name": "Years of Experience",
         "rawType": "float64",
         "type": "float"
        },
        {
         "name": "Salary",
         "rawType": "float64",
         "type": "float"
        }
       ],
       "ref": "e8632da2-9971-41c1-a4c5-e453939819a7",
       "rows": [
        [
         "count",
         "373.0",
         "373.0",
         "373.0"
        ],
        [
         "mean",
         "37.43163538873995",
         "10.03083109919571",
         "100577.34584450402"
        ],
        [
         "std",
         "7.069072938567496",
         "6.557007136414243",
         "48240.0134818827"
        ],
        [
         "min",
         "23.0",
         "0.0",
         "350.0"
        ],
        [
         "25%",
         "31.0",
         "4.0",
         "55000.0"
        ],
        [
         "50%",
         "36.0",
         "9.0",
         "95000.0"
        ],
        [
         "75%",
         "44.0",
         "15.0",
         "140000.0"
        ],
        [
         "max",
         "53.0",
         "25.0",
         "250000.0"
        ]
       ],
       "shape": {
        "columns": 3,
        "rows": 8
       }
      },
      "text/html": [
       "<div>\n",
       "<style scoped>\n",
       "    .dataframe tbody tr th:only-of-type {\n",
       "        vertical-align: middle;\n",
       "    }\n",
       "\n",
       "    .dataframe tbody tr th {\n",
       "        vertical-align: top;\n",
       "    }\n",
       "\n",
       "    .dataframe thead th {\n",
       "        text-align: right;\n",
       "    }\n",
       "</style>\n",
       "<table border=\"1\" class=\"dataframe\">\n",
       "  <thead>\n",
       "    <tr style=\"text-align: right;\">\n",
       "      <th></th>\n",
       "      <th>Age</th>\n",
       "      <th>Years of Experience</th>\n",
       "      <th>Salary</th>\n",
       "    </tr>\n",
       "  </thead>\n",
       "  <tbody>\n",
       "    <tr>\n",
       "      <th>count</th>\n",
       "      <td>373.000000</td>\n",
       "      <td>373.000000</td>\n",
       "      <td>373.000000</td>\n",
       "    </tr>\n",
       "    <tr>\n",
       "      <th>mean</th>\n",
       "      <td>37.431635</td>\n",
       "      <td>10.030831</td>\n",
       "      <td>100577.345845</td>\n",
       "    </tr>\n",
       "    <tr>\n",
       "      <th>std</th>\n",
       "      <td>7.069073</td>\n",
       "      <td>6.557007</td>\n",
       "      <td>48240.013482</td>\n",
       "    </tr>\n",
       "    <tr>\n",
       "      <th>min</th>\n",
       "      <td>23.000000</td>\n",
       "      <td>0.000000</td>\n",
       "      <td>350.000000</td>\n",
       "    </tr>\n",
       "    <tr>\n",
       "      <th>25%</th>\n",
       "      <td>31.000000</td>\n",
       "      <td>4.000000</td>\n",
       "      <td>55000.000000</td>\n",
       "    </tr>\n",
       "    <tr>\n",
       "      <th>50%</th>\n",
       "      <td>36.000000</td>\n",
       "      <td>9.000000</td>\n",
       "      <td>95000.000000</td>\n",
       "    </tr>\n",
       "    <tr>\n",
       "      <th>75%</th>\n",
       "      <td>44.000000</td>\n",
       "      <td>15.000000</td>\n",
       "      <td>140000.000000</td>\n",
       "    </tr>\n",
       "    <tr>\n",
       "      <th>max</th>\n",
       "      <td>53.000000</td>\n",
       "      <td>25.000000</td>\n",
       "      <td>250000.000000</td>\n",
       "    </tr>\n",
       "  </tbody>\n",
       "</table>\n",
       "</div>"
      ],
      "text/plain": [
       "              Age  Years of Experience         Salary\n",
       "count  373.000000           373.000000     373.000000\n",
       "mean    37.431635            10.030831  100577.345845\n",
       "std      7.069073             6.557007   48240.013482\n",
       "min     23.000000             0.000000     350.000000\n",
       "25%     31.000000             4.000000   55000.000000\n",
       "50%     36.000000             9.000000   95000.000000\n",
       "75%     44.000000            15.000000  140000.000000\n",
       "max     53.000000            25.000000  250000.000000"
      ]
     },
     "execution_count": 7,
     "metadata": {},
     "output_type": "execute_result"
    }
   ],
   "source": [
    "# Displaying  the summary statistics of the DataFrame\n",
    "df.describe()"
   ]
  },
  {
   "cell_type": "code",
   "execution_count": 8,
   "id": "63ab1b91",
   "metadata": {},
   "outputs": [
    {
     "data": {
      "application/vnd.microsoft.datawrangler.viewer.v0+json": {
       "columns": [
        {
         "name": "index",
         "rawType": "object",
         "type": "string"
        },
        {
         "name": "0",
         "rawType": "int64",
         "type": "integer"
        }
       ],
       "ref": "01038623-c1a5-4d5b-9cbe-7b401b790164",
       "rows": [
        [
         "Age",
         "2"
        ],
        [
         "Gender",
         "2"
        ],
        [
         "Education Level",
         "2"
        ],
        [
         "Job Title",
         "2"
        ],
        [
         "Years of Experience",
         "2"
        ],
        [
         "Salary",
         "2"
        ]
       ],
       "shape": {
        "columns": 1,
        "rows": 6
       }
      },
      "text/plain": [
       "Age                    2\n",
       "Gender                 2\n",
       "Education Level        2\n",
       "Job Title              2\n",
       "Years of Experience    2\n",
       "Salary                 2\n",
       "dtype: int64"
      ]
     },
     "execution_count": 8,
     "metadata": {},
     "output_type": "execute_result"
    }
   ],
   "source": [
    "#displaying the data trypes of each column\n",
    "df.isnull().sum()"
   ]
  },
  {
   "cell_type": "code",
   "execution_count": null,
   "id": "5d91c2f8",
   "metadata": {},
   "outputs": [],
   "source": [
    "#dropping null values\n",
    "df = df.dropna()"
   ]
  },
  {
   "cell_type": "code",
   "execution_count": null,
   "id": "8d70d67b",
   "metadata": {},
   "outputs": [
    {
     "data": {
      "application/vnd.microsoft.datawrangler.viewer.v0+json": {
       "columns": [
        {
         "name": "index",
         "rawType": "object",
         "type": "string"
        },
        {
         "name": "0",
         "rawType": "int64",
         "type": "integer"
        }
       ],
       "ref": "2c9dcf00-94f1-4d0a-ae85-81a90de40e16",
       "rows": [
        [
         "Age",
         "0"
        ],
        [
         "Gender",
         "0"
        ],
        [
         "Education Level",
         "0"
        ],
        [
         "Job Title",
         "0"
        ],
        [
         "Years of Experience",
         "0"
        ],
        [
         "Salary",
         "0"
        ]
       ],
       "shape": {
        "columns": 1,
        "rows": 6
       }
      },
      "text/plain": [
       "Age                    0\n",
       "Gender                 0\n",
       "Education Level        0\n",
       "Job Title              0\n",
       "Years of Experience    0\n",
       "Salary                 0\n",
       "dtype: int64"
      ]
     },
     "execution_count": 12,
     "metadata": {},
     "output_type": "execute_result"
    }
   ],
   "source": [
    "#displaying the data types after dropping null values\n",
    "df.isnull().sum()"
   ]
  },
  {
   "cell_type": "code",
   "execution_count": null,
   "id": "40674fde",
   "metadata": {},
   "outputs": [
    {
     "data": {
      "application/vnd.microsoft.datawrangler.viewer.v0+json": {
       "columns": [
        {
         "name": "index",
         "rawType": "object",
         "type": "string"
        },
        {
         "name": "Age",
         "rawType": "float64",
         "type": "float"
        },
        {
         "name": "Years of Experience",
         "rawType": "float64",
         "type": "float"
        },
        {
         "name": "Salary",
         "rawType": "float64",
         "type": "float"
        }
       ],
       "ref": "7e70b9d3-17b1-4b50-8ae0-c8bf049ca613",
       "rows": [
        [
         "count",
         "373.0",
         "373.0",
         "373.0"
        ],
        [
         "mean",
         "37.43163538873995",
         "10.03083109919571",
         "100577.34584450402"
        ],
        [
         "std",
         "7.069072938567496",
         "6.557007136414243",
         "48240.0134818827"
        ],
        [
         "min",
         "23.0",
         "0.0",
         "350.0"
        ],
        [
         "25%",
         "31.0",
         "4.0",
         "55000.0"
        ],
        [
         "50%",
         "36.0",
         "9.0",
         "95000.0"
        ],
        [
         "75%",
         "44.0",
         "15.0",
         "140000.0"
        ],
        [
         "max",
         "53.0",
         "25.0",
         "250000.0"
        ]
       ],
       "shape": {
        "columns": 3,
        "rows": 8
       }
      },
      "text/html": [
       "<div>\n",
       "<style scoped>\n",
       "    .dataframe tbody tr th:only-of-type {\n",
       "        vertical-align: middle;\n",
       "    }\n",
       "\n",
       "    .dataframe tbody tr th {\n",
       "        vertical-align: top;\n",
       "    }\n",
       "\n",
       "    .dataframe thead th {\n",
       "        text-align: right;\n",
       "    }\n",
       "</style>\n",
       "<table border=\"1\" class=\"dataframe\">\n",
       "  <thead>\n",
       "    <tr style=\"text-align: right;\">\n",
       "      <th></th>\n",
       "      <th>Age</th>\n",
       "      <th>Years of Experience</th>\n",
       "      <th>Salary</th>\n",
       "    </tr>\n",
       "  </thead>\n",
       "  <tbody>\n",
       "    <tr>\n",
       "      <th>count</th>\n",
       "      <td>373.000000</td>\n",
       "      <td>373.000000</td>\n",
       "      <td>373.000000</td>\n",
       "    </tr>\n",
       "    <tr>\n",
       "      <th>mean</th>\n",
       "      <td>37.431635</td>\n",
       "      <td>10.030831</td>\n",
       "      <td>100577.345845</td>\n",
       "    </tr>\n",
       "    <tr>\n",
       "      <th>std</th>\n",
       "      <td>7.069073</td>\n",
       "      <td>6.557007</td>\n",
       "      <td>48240.013482</td>\n",
       "    </tr>\n",
       "    <tr>\n",
       "      <th>min</th>\n",
       "      <td>23.000000</td>\n",
       "      <td>0.000000</td>\n",
       "      <td>350.000000</td>\n",
       "    </tr>\n",
       "    <tr>\n",
       "      <th>25%</th>\n",
       "      <td>31.000000</td>\n",
       "      <td>4.000000</td>\n",
       "      <td>55000.000000</td>\n",
       "    </tr>\n",
       "    <tr>\n",
       "      <th>50%</th>\n",
       "      <td>36.000000</td>\n",
       "      <td>9.000000</td>\n",
       "      <td>95000.000000</td>\n",
       "    </tr>\n",
       "    <tr>\n",
       "      <th>75%</th>\n",
       "      <td>44.000000</td>\n",
       "      <td>15.000000</td>\n",
       "      <td>140000.000000</td>\n",
       "    </tr>\n",
       "    <tr>\n",
       "      <th>max</th>\n",
       "      <td>53.000000</td>\n",
       "      <td>25.000000</td>\n",
       "      <td>250000.000000</td>\n",
       "    </tr>\n",
       "  </tbody>\n",
       "</table>\n",
       "</div>"
      ],
      "text/plain": [
       "              Age  Years of Experience         Salary\n",
       "count  373.000000           373.000000     373.000000\n",
       "mean    37.431635            10.030831  100577.345845\n",
       "std      7.069073             6.557007   48240.013482\n",
       "min     23.000000             0.000000     350.000000\n",
       "25%     31.000000             4.000000   55000.000000\n",
       "50%     36.000000             9.000000   95000.000000\n",
       "75%     44.000000            15.000000  140000.000000\n",
       "max     53.000000            25.000000  250000.000000"
      ]
     },
     "execution_count": 14,
     "metadata": {},
     "output_type": "execute_result"
    }
   ],
   "source": [
    "#summary statistics for the data frame after dropping null values\n",
    "df.describe()"
   ]
  },
  {
   "cell_type": "code",
   "execution_count": null,
   "id": "cbf709e7",
   "metadata": {},
   "outputs": [
    {
     "data": {
      "application/vnd.microsoft.datawrangler.viewer.v0+json": {
       "columns": [
        {
         "name": "index",
         "rawType": "object",
         "type": "string"
        },
        {
         "name": "0",
         "rawType": "object",
         "type": "unknown"
        }
       ],
       "ref": "918e51f2-6027-4d06-b986-27aa3bdc2439",
       "rows": [
        [
         "Age",
         "float64"
        ],
        [
         "Gender",
         "object"
        ],
        [
         "Education Level",
         "object"
        ],
        [
         "Job Title",
         "object"
        ],
        [
         "Years of Experience",
         "float64"
        ],
        [
         "Salary",
         "float64"
        ]
       ],
       "shape": {
        "columns": 1,
        "rows": 6
       }
      },
      "text/plain": [
       "Age                    float64\n",
       "Gender                  object\n",
       "Education Level         object\n",
       "Job Title               object\n",
       "Years of Experience    float64\n",
       "Salary                 float64\n",
       "dtype: object"
      ]
     },
     "execution_count": 16,
     "metadata": {},
     "output_type": "execute_result"
    }
   ],
   "source": [
    "# Displaying the first few rows of the DataFrame after cleaning\n",
    "df.dtypes"
   ]
  },
  {
   "cell_type": "code",
   "execution_count": null,
   "id": "568527d0",
   "metadata": {},
   "outputs": [
    {
     "data": {
      "application/vnd.microsoft.datawrangler.viewer.v0+json": {
       "columns": [
        {
         "name": "Job Title",
         "rawType": "object",
         "type": "string"
        },
        {
         "name": "count",
         "rawType": "int64",
         "type": "integer"
        }
       ],
       "ref": "07676ed7-8094-424b-aa28-2f78fdb68797",
       "rows": [
        [
         "Director of Marketing",
         "12"
        ],
        [
         "Director of Operations",
         "11"
        ],
        [
         "Senior Business Analyst",
         "10"
        ],
        [
         "Senior Marketing Analyst",
         "9"
        ],
        [
         "Senior Marketing Manager",
         "9"
        ],
        [
         "Junior Business Analyst",
         "8"
        ],
        [
         "Senior Financial Analyst",
         "7"
        ],
        [
         "Junior Financial Analyst",
         "7"
        ],
        [
         "Junior Business Development Associate",
         "7"
        ],
        [
         "Senior Project Manager",
         "7"
        ],
        [
         "Senior Data Scientist",
         "7"
        ],
        [
         "Senior Software Engineer",
         "6"
        ],
        [
         "Junior Marketing Coordinator",
         "6"
        ],
        [
         "Senior Product Manager",
         "6"
        ],
        [
         "Senior Financial Manager",
         "5"
        ],
        [
         "Junior Operations Analyst",
         "5"
        ],
        [
         "Junior Project Manager",
         "5"
        ],
        [
         "Junior Marketing Specialist",
         "5"
        ],
        [
         "Senior Product Designer",
         "5"
        ],
        [
         "Senior Operations Manager",
         "5"
        ],
        [
         "Senior Project Coordinator",
         "5"
        ],
        [
         "Senior Data Engineer",
         "4"
        ],
        [
         "Senior Marketing Specialist",
         "4"
        ],
        [
         "Senior Operations Coordinator",
         "4"
        ],
        [
         "Senior Business Development Manager",
         "4"
        ],
        [
         "Junior Product Manager",
         "4"
        ],
        [
         "Junior Sales Representative",
         "4"
        ],
        [
         "Senior Data Analyst",
         "3"
        ],
        [
         "Senior Marketing Coordinator",
         "3"
        ],
        [
         "Junior Accountant",
         "3"
        ],
        [
         "Senior Software Developer",
         "3"
        ],
        [
         "Senior Financial Advisor",
         "3"
        ],
        [
         "Junior Operations Manager",
         "3"
        ],
        [
         "Senior UX Designer",
         "3"
        ],
        [
         "Junior Marketing Manager",
         "3"
        ],
        [
         "Senior Scientist",
         "3"
        ],
        [
         "Marketing Coordinator",
         "3"
        ],
        [
         "Sales Manager",
         "3"
        ],
        [
         "Junior Marketing Analyst",
         "3"
        ],
        [
         "Senior HR Manager",
         "3"
        ],
        [
         "Junior HR Coordinator",
         "2"
        ],
        [
         "Junior Software Developer",
         "2"
        ],
        [
         "Senior Human Resources Manager",
         "2"
        ],
        [
         "Senior Sales Representative",
         "2"
        ],
        [
         "Director of Human Resources",
         "2"
        ],
        [
         "Junior Account Manager",
         "2"
        ],
        [
         "Senior Accountant",
         "2"
        ],
        [
         "Data Analyst",
         "2"
        ],
        [
         "Senior Sales Manager",
         "2"
        ],
        [
         "Junior HR Generalist",
         "2"
        ]
       ],
       "shape": {
        "columns": 1,
        "rows": 174
       }
      },
      "text/plain": [
       "Job Title\n",
       "Director of Marketing              12\n",
       "Director of Operations             11\n",
       "Senior Business Analyst            10\n",
       "Senior Marketing Analyst            9\n",
       "Senior Marketing Manager            9\n",
       "                                   ..\n",
       "Business Development Manager        1\n",
       "Customer Service Representative     1\n",
       "IT Manager                          1\n",
       "Digital Marketing Manager           1\n",
       "Junior Web Developer                1\n",
       "Name: count, Length: 174, dtype: int64"
      ]
     },
     "execution_count": 17,
     "metadata": {},
     "output_type": "execute_result"
    }
   ],
   "source": [
    "# Displaying the unique values in the 'Job Title' column\n",
    "df['Job Title'].value_counts()"
   ]
  },
  {
   "cell_type": "code",
   "execution_count": 18,
   "id": "2a3fb39e",
   "metadata": {},
   "outputs": [
    {
     "data": {
      "application/vnd.microsoft.datawrangler.viewer.v0+json": {
       "columns": [
        {
         "name": "Education Level",
         "rawType": "object",
         "type": "string"
        },
        {
         "name": "count",
         "rawType": "int64",
         "type": "integer"
        }
       ],
       "ref": "092f3092-22db-4801-9e83-a0f5fb746eb6",
       "rows": [
        [
         "Bachelor's",
         "224"
        ],
        [
         "Master's",
         "98"
        ],
        [
         "PhD",
         "51"
        ]
       ],
       "shape": {
        "columns": 1,
        "rows": 3
       }
      },
      "text/plain": [
       "Education Level\n",
       "Bachelor's    224\n",
       "Master's       98\n",
       "PhD            51\n",
       "Name: count, dtype: int64"
      ]
     },
     "execution_count": 18,
     "metadata": {},
     "output_type": "execute_result"
    }
   ],
   "source": [
    "# Displaying the unique values in the 'Education Level' column\n",
    "df['Education Level'].value_counts()"
   ]
  },
  {
   "cell_type": "code",
   "execution_count": 19,
   "id": "427dbf4b",
   "metadata": {},
   "outputs": [
    {
     "name": "stdout",
     "output_type": "stream",
     "text": [
      "<class 'pandas.core.frame.DataFrame'>\n",
      "Index: 147 entries, 47 to 374\n",
      "Data columns (total 6 columns):\n",
      " #   Column               Non-Null Count  Dtype  \n",
      "---  ------               --------------  -----  \n",
      " 0   Age                  147 non-null    float64\n",
      " 1   Gender               147 non-null    object \n",
      " 2   Education Level      147 non-null    object \n",
      " 3   Job Title            147 non-null    object \n",
      " 4   Years of Experience  147 non-null    float64\n",
      " 5   Salary               147 non-null    float64\n",
      "dtypes: float64(3), object(3)\n",
      "memory usage: 8.0+ KB\n"
     ]
    },
    {
     "data": {
      "application/vnd.microsoft.datawrangler.viewer.v0+json": {
       "columns": [
        {
         "name": "Job Title",
         "rawType": "object",
         "type": "string"
        },
        {
         "name": "count",
         "rawType": "int64",
         "type": "integer"
        }
       ],
       "ref": "f0032c0b-7d21-4dad-b3e4-90d33a0aeb9b",
       "rows": [
        [
         "Director of Marketing",
         "12"
        ],
        [
         "Director of Operations",
         "11"
        ],
        [
         "Senior Business Analyst",
         "10"
        ],
        [
         "Senior Marketing Manager",
         "9"
        ],
        [
         "Senior Marketing Analyst",
         "9"
        ],
        [
         "Junior Business Analyst",
         "8"
        ],
        [
         "Senior Data Scientist",
         "7"
        ],
        [
         "Senior Financial Analyst",
         "7"
        ],
        [
         "Senior Project Manager",
         "7"
        ],
        [
         "Junior Business Development Associate",
         "7"
        ],
        [
         "Junior Financial Analyst",
         "7"
        ],
        [
         "Junior Marketing Coordinator",
         "6"
        ],
        [
         "Senior Product Manager",
         "6"
        ],
        [
         "Senior Software Engineer",
         "6"
        ],
        [
         "Junior Marketing Specialist",
         "5"
        ],
        [
         "Junior Project Manager",
         "5"
        ],
        [
         "Senior Product Designer",
         "5"
        ],
        [
         "Junior Operations Analyst",
         "5"
        ],
        [
         "Senior Operations Manager",
         "5"
        ],
        [
         "Senior Project Coordinator",
         "5"
        ],
        [
         "Senior Financial Manager",
         "5"
        ]
       ],
       "shape": {
        "columns": 1,
        "rows": 21
       }
      },
      "text/plain": [
       "Job Title\n",
       "Director of Marketing                    12\n",
       "Director of Operations                   11\n",
       "Senior Business Analyst                  10\n",
       "Senior Marketing Manager                  9\n",
       "Senior Marketing Analyst                  9\n",
       "Junior Business Analyst                   8\n",
       "Senior Data Scientist                     7\n",
       "Senior Financial Analyst                  7\n",
       "Senior Project Manager                    7\n",
       "Junior Business Development Associate     7\n",
       "Junior Financial Analyst                  7\n",
       "Junior Marketing Coordinator              6\n",
       "Senior Product Manager                    6\n",
       "Senior Software Engineer                  6\n",
       "Junior Marketing Specialist               5\n",
       "Junior Project Manager                    5\n",
       "Senior Product Designer                   5\n",
       "Junior Operations Analyst                 5\n",
       "Senior Operations Manager                 5\n",
       "Senior Project Coordinator                5\n",
       "Senior Financial Manager                  5\n",
       "Name: count, dtype: int64"
      ]
     },
     "execution_count": 19,
     "metadata": {},
     "output_type": "execute_result"
    }
   ],
   "source": [
    "#Displaying the first few rows of the filtered DataFrame \n",
    "df_edited = df.groupby('Job Title').filter(lambda x : len(x)>4)\n",
    "df_edited.info()\n",
    "df_edited['Job Title'].value_counts() "
   ]
  },
  {
   "cell_type": "code",
   "execution_count": 20,
   "id": "5b8d968b",
   "metadata": {},
   "outputs": [],
   "source": [
    "# Displaying the data types after converting 'Job Title' to category\n",
    "df['Job Title'] = df['Job Title'].astype('category')"
   ]
  },
  {
   "cell_type": "code",
   "execution_count": 22,
   "id": "860abcf0",
   "metadata": {},
   "outputs": [
    {
     "data": {
      "application/vnd.microsoft.datawrangler.viewer.v0+json": {
       "columns": [
        {
         "name": "index",
         "rawType": "int64",
         "type": "integer"
        },
        {
         "name": "Age",
         "rawType": "float64",
         "type": "float"
        },
        {
         "name": "Gender",
         "rawType": "object",
         "type": "string"
        },
        {
         "name": "Education Level",
         "rawType": "object",
         "type": "string"
        },
        {
         "name": "Job Title",
         "rawType": "category",
         "type": "unknown"
        },
        {
         "name": "Years of Experience",
         "rawType": "float64",
         "type": "float"
        },
        {
         "name": "Salary",
         "rawType": "float64",
         "type": "float"
        },
        {
         "name": "Job Title Encoded",
         "rawType": "int8",
         "type": "integer"
        }
       ],
       "ref": "8f187960-1e96-44ee-ba63-4f9a90380331",
       "rows": [
        [
         "47",
         "45.0",
         "Female",
         "Master's",
         "Director of Marketing",
         "16.0",
         "180000.0",
         "0"
        ],
        [
         "60",
         "51.0",
         "Female",
         "Master's",
         "Director of Operations",
         "23.0",
         "170000.0",
         "1"
        ],
        [
         "63",
         "47.0",
         "Male",
         "PhD",
         "Senior Data Scientist",
         "21.0",
         "180000.0",
         "10"
        ],
        [
         "69",
         "49.0",
         "Female",
         "Master's",
         "Senior Financial Analyst",
         "18.0",
         "150000.0",
         "11"
        ],
        [
         "77",
         "32.0",
         "Male",
         "Master's",
         "Senior Software Engineer",
         "6.0",
         "100000.0",
         "20"
        ]
       ],
       "shape": {
        "columns": 7,
        "rows": 5
       }
      },
      "text/html": [
       "<div>\n",
       "<style scoped>\n",
       "    .dataframe tbody tr th:only-of-type {\n",
       "        vertical-align: middle;\n",
       "    }\n",
       "\n",
       "    .dataframe tbody tr th {\n",
       "        vertical-align: top;\n",
       "    }\n",
       "\n",
       "    .dataframe thead th {\n",
       "        text-align: right;\n",
       "    }\n",
       "</style>\n",
       "<table border=\"1\" class=\"dataframe\">\n",
       "  <thead>\n",
       "    <tr style=\"text-align: right;\">\n",
       "      <th></th>\n",
       "      <th>Age</th>\n",
       "      <th>Gender</th>\n",
       "      <th>Education Level</th>\n",
       "      <th>Job Title</th>\n",
       "      <th>Years of Experience</th>\n",
       "      <th>Salary</th>\n",
       "      <th>Job Title Encoded</th>\n",
       "    </tr>\n",
       "  </thead>\n",
       "  <tbody>\n",
       "    <tr>\n",
       "      <th>47</th>\n",
       "      <td>45.0</td>\n",
       "      <td>Female</td>\n",
       "      <td>Master's</td>\n",
       "      <td>Director of Marketing</td>\n",
       "      <td>16.0</td>\n",
       "      <td>180000.0</td>\n",
       "      <td>0</td>\n",
       "    </tr>\n",
       "    <tr>\n",
       "      <th>60</th>\n",
       "      <td>51.0</td>\n",
       "      <td>Female</td>\n",
       "      <td>Master's</td>\n",
       "      <td>Director of Operations</td>\n",
       "      <td>23.0</td>\n",
       "      <td>170000.0</td>\n",
       "      <td>1</td>\n",
       "    </tr>\n",
       "    <tr>\n",
       "      <th>63</th>\n",
       "      <td>47.0</td>\n",
       "      <td>Male</td>\n",
       "      <td>PhD</td>\n",
       "      <td>Senior Data Scientist</td>\n",
       "      <td>21.0</td>\n",
       "      <td>180000.0</td>\n",
       "      <td>10</td>\n",
       "    </tr>\n",
       "    <tr>\n",
       "      <th>69</th>\n",
       "      <td>49.0</td>\n",
       "      <td>Female</td>\n",
       "      <td>Master's</td>\n",
       "      <td>Senior Financial Analyst</td>\n",
       "      <td>18.0</td>\n",
       "      <td>150000.0</td>\n",
       "      <td>11</td>\n",
       "    </tr>\n",
       "    <tr>\n",
       "      <th>77</th>\n",
       "      <td>32.0</td>\n",
       "      <td>Male</td>\n",
       "      <td>Master's</td>\n",
       "      <td>Senior Software Engineer</td>\n",
       "      <td>6.0</td>\n",
       "      <td>100000.0</td>\n",
       "      <td>20</td>\n",
       "    </tr>\n",
       "  </tbody>\n",
       "</table>\n",
       "</div>"
      ],
      "text/plain": [
       "     Age  Gender Education Level                 Job Title  \\\n",
       "47  45.0  Female        Master's     Director of Marketing   \n",
       "60  51.0  Female        Master's    Director of Operations   \n",
       "63  47.0    Male             PhD     Senior Data Scientist   \n",
       "69  49.0  Female        Master's  Senior Financial Analyst   \n",
       "77  32.0    Male        Master's  Senior Software Engineer   \n",
       "\n",
       "    Years of Experience    Salary  Job Title Encoded  \n",
       "47                 16.0  180000.0                  0  \n",
       "60                 23.0  170000.0                  1  \n",
       "63                 21.0  180000.0                 10  \n",
       "69                 18.0  150000.0                 11  \n",
       "77                  6.0  100000.0                 20  "
      ]
     },
     "execution_count": 22,
     "metadata": {},
     "output_type": "execute_result"
    }
   ],
   "source": [
    "# Displaying the first few rows of the DataFrame after encoding\n",
    "df_edited['Job Title Encoded'] = df_edited['Job Title'].astype('category').cat.codes\n",
    "df_edited.head()\n",
    " "
   ]
  },
  {
   "cell_type": "code",
   "execution_count": null,
   "id": "8b0c215e",
   "metadata": {},
   "outputs": [
    {
     "data": {
      "application/vnd.microsoft.datawrangler.viewer.v0+json": {
       "columns": [
        {
         "name": "index",
         "rawType": "object",
         "type": "string"
        },
        {
         "name": "0",
         "rawType": "object",
         "type": "unknown"
        }
       ],
       "ref": "824d1ad7-57c3-4b6a-8a0f-972a92a4c52f",
       "rows": [
        [
         "Age",
         "float64"
        ],
        [
         "Gender",
         "object"
        ],
        [
         "Education Level",
         "object"
        ],
        [
         "Job Title",
         "category"
        ],
        [
         "Years of Experience",
         "float64"
        ],
        [
         "Salary",
         "float64"
        ],
        [
         "Job Title Encoded",
         "int8"
        ]
       ],
       "shape": {
        "columns": 1,
        "rows": 7
       }
      },
      "text/plain": [
       "Age                     float64\n",
       "Gender                   object\n",
       "Education Level          object\n",
       "Job Title              category\n",
       "Years of Experience     float64\n",
       "Salary                  float64\n",
       "Job Title Encoded          int8\n",
       "dtype: object"
      ]
     },
     "execution_count": 23,
     "metadata": {},
     "output_type": "execute_result"
    }
   ],
   "source": [
    "df_edited.dtypes\n",
    "# Displaying the data types of the DataFrame after encoding\n"
   ]
  },
  {
   "cell_type": "code",
   "execution_count": null,
   "id": "79cda9b0",
   "metadata": {},
   "outputs": [],
   "source": [
    "df_edited['Education Level'] = df_edited['Education Level'].astype('category')\n"
   ]
  },
  {
   "cell_type": "code",
   "execution_count": null,
   "id": "90182ade",
   "metadata": {},
   "outputs": [
    {
     "data": {
      "application/vnd.microsoft.datawrangler.viewer.v0+json": {
       "columns": [
        {
         "name": "index",
         "rawType": "object",
         "type": "string"
        },
        {
         "name": "0",
         "rawType": "object",
         "type": "unknown"
        }
       ],
       "ref": "23e1c965-69cc-4d30-9420-0d07ed5af515",
       "rows": [
        [
         "Age",
         "float64"
        ],
        [
         "Gender",
         "object"
        ],
        [
         "Education Level",
         "category"
        ],
        [
         "Job Title",
         "category"
        ],
        [
         "Years of Experience",
         "float64"
        ],
        [
         "Salary",
         "float64"
        ],
        [
         "Job Title Encoded",
         "int8"
        ],
        [
         "Eduation Level Encoded",
         "int8"
        ]
       ],
       "shape": {
        "columns": 1,
        "rows": 8
       }
      },
      "text/plain": [
       "Age                        float64\n",
       "Gender                      object\n",
       "Education Level           category\n",
       "Job Title                 category\n",
       "Years of Experience        float64\n",
       "Salary                     float64\n",
       "Job Title Encoded             int8\n",
       "Eduation Level Encoded        int8\n",
       "dtype: object"
      ]
     },
     "execution_count": 27,
     "metadata": {},
     "output_type": "execute_result"
    }
   ],
   "source": [
    "df_edited.dtypes"
   ]
  },
  {
   "cell_type": "code",
   "execution_count": 26,
   "id": "866907a7",
   "metadata": {},
   "outputs": [
    {
     "data": {
      "application/vnd.microsoft.datawrangler.viewer.v0+json": {
       "columns": [
        {
         "name": "index",
         "rawType": "int64",
         "type": "integer"
        },
        {
         "name": "Age",
         "rawType": "float64",
         "type": "float"
        },
        {
         "name": "Gender",
         "rawType": "object",
         "type": "string"
        },
        {
         "name": "Education Level",
         "rawType": "category",
         "type": "unknown"
        },
        {
         "name": "Job Title",
         "rawType": "category",
         "type": "unknown"
        },
        {
         "name": "Years of Experience",
         "rawType": "float64",
         "type": "float"
        },
        {
         "name": "Salary",
         "rawType": "float64",
         "type": "float"
        },
        {
         "name": "Job Title Encoded",
         "rawType": "int8",
         "type": "integer"
        },
        {
         "name": "Eduation Level Encoded",
         "rawType": "int8",
         "type": "integer"
        }
       ],
       "ref": "bbe6249f-8e22-48d1-bb48-d7708ff21b0a",
       "rows": [
        [
         "47",
         "45.0",
         "Female",
         "Master's",
         "Director of Marketing",
         "16.0",
         "180000.0",
         "0",
         "1"
        ],
        [
         "60",
         "51.0",
         "Female",
         "Master's",
         "Director of Operations",
         "23.0",
         "170000.0",
         "1",
         "1"
        ],
        [
         "63",
         "47.0",
         "Male",
         "PhD",
         "Senior Data Scientist",
         "21.0",
         "180000.0",
         "10",
         "2"
        ],
        [
         "69",
         "49.0",
         "Female",
         "Master's",
         "Senior Financial Analyst",
         "18.0",
         "150000.0",
         "11",
         "1"
        ],
        [
         "77",
         "32.0",
         "Male",
         "Master's",
         "Senior Software Engineer",
         "6.0",
         "100000.0",
         "20",
         "1"
        ]
       ],
       "shape": {
        "columns": 8,
        "rows": 5
       }
      },
      "text/html": [
       "<div>\n",
       "<style scoped>\n",
       "    .dataframe tbody tr th:only-of-type {\n",
       "        vertical-align: middle;\n",
       "    }\n",
       "\n",
       "    .dataframe tbody tr th {\n",
       "        vertical-align: top;\n",
       "    }\n",
       "\n",
       "    .dataframe thead th {\n",
       "        text-align: right;\n",
       "    }\n",
       "</style>\n",
       "<table border=\"1\" class=\"dataframe\">\n",
       "  <thead>\n",
       "    <tr style=\"text-align: right;\">\n",
       "      <th></th>\n",
       "      <th>Age</th>\n",
       "      <th>Gender</th>\n",
       "      <th>Education Level</th>\n",
       "      <th>Job Title</th>\n",
       "      <th>Years of Experience</th>\n",
       "      <th>Salary</th>\n",
       "      <th>Job Title Encoded</th>\n",
       "      <th>Eduation Level Encoded</th>\n",
       "    </tr>\n",
       "  </thead>\n",
       "  <tbody>\n",
       "    <tr>\n",
       "      <th>47</th>\n",
       "      <td>45.0</td>\n",
       "      <td>Female</td>\n",
       "      <td>Master's</td>\n",
       "      <td>Director of Marketing</td>\n",
       "      <td>16.0</td>\n",
       "      <td>180000.0</td>\n",
       "      <td>0</td>\n",
       "      <td>1</td>\n",
       "    </tr>\n",
       "    <tr>\n",
       "      <th>60</th>\n",
       "      <td>51.0</td>\n",
       "      <td>Female</td>\n",
       "      <td>Master's</td>\n",
       "      <td>Director of Operations</td>\n",
       "      <td>23.0</td>\n",
       "      <td>170000.0</td>\n",
       "      <td>1</td>\n",
       "      <td>1</td>\n",
       "    </tr>\n",
       "    <tr>\n",
       "      <th>63</th>\n",
       "      <td>47.0</td>\n",
       "      <td>Male</td>\n",
       "      <td>PhD</td>\n",
       "      <td>Senior Data Scientist</td>\n",
       "      <td>21.0</td>\n",
       "      <td>180000.0</td>\n",
       "      <td>10</td>\n",
       "      <td>2</td>\n",
       "    </tr>\n",
       "    <tr>\n",
       "      <th>69</th>\n",
       "      <td>49.0</td>\n",
       "      <td>Female</td>\n",
       "      <td>Master's</td>\n",
       "      <td>Senior Financial Analyst</td>\n",
       "      <td>18.0</td>\n",
       "      <td>150000.0</td>\n",
       "      <td>11</td>\n",
       "      <td>1</td>\n",
       "    </tr>\n",
       "    <tr>\n",
       "      <th>77</th>\n",
       "      <td>32.0</td>\n",
       "      <td>Male</td>\n",
       "      <td>Master's</td>\n",
       "      <td>Senior Software Engineer</td>\n",
       "      <td>6.0</td>\n",
       "      <td>100000.0</td>\n",
       "      <td>20</td>\n",
       "      <td>1</td>\n",
       "    </tr>\n",
       "  </tbody>\n",
       "</table>\n",
       "</div>"
      ],
      "text/plain": [
       "     Age  Gender Education Level                 Job Title  \\\n",
       "47  45.0  Female        Master's     Director of Marketing   \n",
       "60  51.0  Female        Master's    Director of Operations   \n",
       "63  47.0    Male             PhD     Senior Data Scientist   \n",
       "69  49.0  Female        Master's  Senior Financial Analyst   \n",
       "77  32.0    Male        Master's  Senior Software Engineer   \n",
       "\n",
       "    Years of Experience    Salary  Job Title Encoded  Eduation Level Encoded  \n",
       "47                 16.0  180000.0                  0                       1  \n",
       "60                 23.0  170000.0                  1                       1  \n",
       "63                 21.0  180000.0                 10                       2  \n",
       "69                 18.0  150000.0                 11                       1  \n",
       "77                  6.0  100000.0                 20                       1  "
      ]
     },
     "execution_count": 26,
     "metadata": {},
     "output_type": "execute_result"
    }
   ],
   "source": [
    "df_edited['Eduation Level Encoded'] = df_edited['Education Level'].cat.codes\n",
    "# Displaying the first few rows of the DataFrame after encoding education level\n",
    "df_edited.head()"
   ]
  },
  {
   "cell_type": "code",
   "execution_count": 29,
   "id": "7e027399",
   "metadata": {},
   "outputs": [],
   "source": [
    "df_edited['Gender'] = df_edited['Gender'].astype('category')"
   ]
  },
  {
   "cell_type": "code",
   "execution_count": 31,
   "id": "cb9d54c1",
   "metadata": {},
   "outputs": [
    {
     "data": {
      "application/vnd.microsoft.datawrangler.viewer.v0+json": {
       "columns": [
        {
         "name": "index",
         "rawType": "int64",
         "type": "integer"
        },
        {
         "name": "Age",
         "rawType": "float64",
         "type": "float"
        },
        {
         "name": "Gender",
         "rawType": "category",
         "type": "unknown"
        },
        {
         "name": "Education Level",
         "rawType": "category",
         "type": "unknown"
        },
        {
         "name": "Job Title",
         "rawType": "category",
         "type": "unknown"
        },
        {
         "name": "Years of Experience",
         "rawType": "float64",
         "type": "float"
        },
        {
         "name": "Salary",
         "rawType": "float64",
         "type": "float"
        },
        {
         "name": "Job Title Encoded",
         "rawType": "int8",
         "type": "integer"
        },
        {
         "name": "Eduation Level Encoded",
         "rawType": "int8",
         "type": "integer"
        },
        {
         "name": "Gender Encoded",
         "rawType": "int8",
         "type": "integer"
        }
       ],
       "ref": "63627770-d7cc-4f60-a06a-e34381b8d59a",
       "rows": [
        [
         "47",
         "45.0",
         "Female",
         "Master's",
         "Director of Marketing",
         "16.0",
         "180000.0",
         "0",
         "1",
         "0"
        ],
        [
         "60",
         "51.0",
         "Female",
         "Master's",
         "Director of Operations",
         "23.0",
         "170000.0",
         "1",
         "1",
         "0"
        ],
        [
         "63",
         "47.0",
         "Male",
         "PhD",
         "Senior Data Scientist",
         "21.0",
         "180000.0",
         "10",
         "2",
         "1"
        ],
        [
         "69",
         "49.0",
         "Female",
         "Master's",
         "Senior Financial Analyst",
         "18.0",
         "150000.0",
         "11",
         "1",
         "0"
        ],
        [
         "77",
         "32.0",
         "Male",
         "Master's",
         "Senior Software Engineer",
         "6.0",
         "100000.0",
         "20",
         "1",
         "1"
        ]
       ],
       "shape": {
        "columns": 9,
        "rows": 5
       }
      },
      "text/html": [
       "<div>\n",
       "<style scoped>\n",
       "    .dataframe tbody tr th:only-of-type {\n",
       "        vertical-align: middle;\n",
       "    }\n",
       "\n",
       "    .dataframe tbody tr th {\n",
       "        vertical-align: top;\n",
       "    }\n",
       "\n",
       "    .dataframe thead th {\n",
       "        text-align: right;\n",
       "    }\n",
       "</style>\n",
       "<table border=\"1\" class=\"dataframe\">\n",
       "  <thead>\n",
       "    <tr style=\"text-align: right;\">\n",
       "      <th></th>\n",
       "      <th>Age</th>\n",
       "      <th>Gender</th>\n",
       "      <th>Education Level</th>\n",
       "      <th>Job Title</th>\n",
       "      <th>Years of Experience</th>\n",
       "      <th>Salary</th>\n",
       "      <th>Job Title Encoded</th>\n",
       "      <th>Eduation Level Encoded</th>\n",
       "      <th>Gender Encoded</th>\n",
       "    </tr>\n",
       "  </thead>\n",
       "  <tbody>\n",
       "    <tr>\n",
       "      <th>47</th>\n",
       "      <td>45.0</td>\n",
       "      <td>Female</td>\n",
       "      <td>Master's</td>\n",
       "      <td>Director of Marketing</td>\n",
       "      <td>16.0</td>\n",
       "      <td>180000.0</td>\n",
       "      <td>0</td>\n",
       "      <td>1</td>\n",
       "      <td>0</td>\n",
       "    </tr>\n",
       "    <tr>\n",
       "      <th>60</th>\n",
       "      <td>51.0</td>\n",
       "      <td>Female</td>\n",
       "      <td>Master's</td>\n",
       "      <td>Director of Operations</td>\n",
       "      <td>23.0</td>\n",
       "      <td>170000.0</td>\n",
       "      <td>1</td>\n",
       "      <td>1</td>\n",
       "      <td>0</td>\n",
       "    </tr>\n",
       "    <tr>\n",
       "      <th>63</th>\n",
       "      <td>47.0</td>\n",
       "      <td>Male</td>\n",
       "      <td>PhD</td>\n",
       "      <td>Senior Data Scientist</td>\n",
       "      <td>21.0</td>\n",
       "      <td>180000.0</td>\n",
       "      <td>10</td>\n",
       "      <td>2</td>\n",
       "      <td>1</td>\n",
       "    </tr>\n",
       "    <tr>\n",
       "      <th>69</th>\n",
       "      <td>49.0</td>\n",
       "      <td>Female</td>\n",
       "      <td>Master's</td>\n",
       "      <td>Senior Financial Analyst</td>\n",
       "      <td>18.0</td>\n",
       "      <td>150000.0</td>\n",
       "      <td>11</td>\n",
       "      <td>1</td>\n",
       "      <td>0</td>\n",
       "    </tr>\n",
       "    <tr>\n",
       "      <th>77</th>\n",
       "      <td>32.0</td>\n",
       "      <td>Male</td>\n",
       "      <td>Master's</td>\n",
       "      <td>Senior Software Engineer</td>\n",
       "      <td>6.0</td>\n",
       "      <td>100000.0</td>\n",
       "      <td>20</td>\n",
       "      <td>1</td>\n",
       "      <td>1</td>\n",
       "    </tr>\n",
       "  </tbody>\n",
       "</table>\n",
       "</div>"
      ],
      "text/plain": [
       "     Age  Gender Education Level                 Job Title  \\\n",
       "47  45.0  Female        Master's     Director of Marketing   \n",
       "60  51.0  Female        Master's    Director of Operations   \n",
       "63  47.0    Male             PhD     Senior Data Scientist   \n",
       "69  49.0  Female        Master's  Senior Financial Analyst   \n",
       "77  32.0    Male        Master's  Senior Software Engineer   \n",
       "\n",
       "    Years of Experience    Salary  Job Title Encoded  Eduation Level Encoded  \\\n",
       "47                 16.0  180000.0                  0                       1   \n",
       "60                 23.0  170000.0                  1                       1   \n",
       "63                 21.0  180000.0                 10                       2   \n",
       "69                 18.0  150000.0                 11                       1   \n",
       "77                  6.0  100000.0                 20                       1   \n",
       "\n",
       "    Gender Encoded  \n",
       "47               0  \n",
       "60               0  \n",
       "63               1  \n",
       "69               0  \n",
       "77               1  "
      ]
     },
     "execution_count": 31,
     "metadata": {},
     "output_type": "execute_result"
    }
   ],
   "source": [
    "df_edited['Gender Encoded'] = df_edited['Gender'].cat.codes\n",
    "df_edited.head()"
   ]
  },
  {
   "cell_type": "code",
   "execution_count": null,
   "id": "6a009913",
   "metadata": {},
   "outputs": [
    {
     "data": {
      "application/vnd.microsoft.datawrangler.viewer.v0+json": {
       "columns": [
        {
         "name": "index",
         "rawType": "int64",
         "type": "integer"
        },
        {
         "name": "Age",
         "rawType": "float64",
         "type": "float"
        },
        {
         "name": "Years of Experience",
         "rawType": "float64",
         "type": "float"
        },
        {
         "name": "Salary",
         "rawType": "float64",
         "type": "float"
        },
        {
         "name": "Job Title Encoded",
         "rawType": "int8",
         "type": "integer"
        },
        {
         "name": "Eduation Level Encoded",
         "rawType": "int8",
         "type": "integer"
        },
        {
         "name": "Gender Encoded",
         "rawType": "int8",
         "type": "integer"
        }
       ],
       "ref": "93d8b15a-1805-49d3-84f1-3a7442ed7105",
       "rows": [
        [
         "47",
         "45.0",
         "16.0",
         "180000.0",
         "0",
         "1",
         "0"
        ],
        [
         "60",
         "51.0",
         "23.0",
         "170000.0",
         "1",
         "1",
         "0"
        ],
        [
         "63",
         "47.0",
         "21.0",
         "180000.0",
         "10",
         "2",
         "1"
        ],
        [
         "69",
         "49.0",
         "18.0",
         "150000.0",
         "11",
         "1",
         "0"
        ],
        [
         "77",
         "32.0",
         "6.0",
         "100000.0",
         "20",
         "1",
         "1"
        ]
       ],
       "shape": {
        "columns": 6,
        "rows": 5
       }
      },
      "text/html": [
       "<div>\n",
       "<style scoped>\n",
       "    .dataframe tbody tr th:only-of-type {\n",
       "        vertical-align: middle;\n",
       "    }\n",
       "\n",
       "    .dataframe tbody tr th {\n",
       "        vertical-align: top;\n",
       "    }\n",
       "\n",
       "    .dataframe thead th {\n",
       "        text-align: right;\n",
       "    }\n",
       "</style>\n",
       "<table border=\"1\" class=\"dataframe\">\n",
       "  <thead>\n",
       "    <tr style=\"text-align: right;\">\n",
       "      <th></th>\n",
       "      <th>Age</th>\n",
       "      <th>Years of Experience</th>\n",
       "      <th>Salary</th>\n",
       "      <th>Job Title Encoded</th>\n",
       "      <th>Eduation Level Encoded</th>\n",
       "      <th>Gender Encoded</th>\n",
       "    </tr>\n",
       "  </thead>\n",
       "  <tbody>\n",
       "    <tr>\n",
       "      <th>47</th>\n",
       "      <td>45.0</td>\n",
       "      <td>16.0</td>\n",
       "      <td>180000.0</td>\n",
       "      <td>0</td>\n",
       "      <td>1</td>\n",
       "      <td>0</td>\n",
       "    </tr>\n",
       "    <tr>\n",
       "      <th>60</th>\n",
       "      <td>51.0</td>\n",
       "      <td>23.0</td>\n",
       "      <td>170000.0</td>\n",
       "      <td>1</td>\n",
       "      <td>1</td>\n",
       "      <td>0</td>\n",
       "    </tr>\n",
       "    <tr>\n",
       "      <th>63</th>\n",
       "      <td>47.0</td>\n",
       "      <td>21.0</td>\n",
       "      <td>180000.0</td>\n",
       "      <td>10</td>\n",
       "      <td>2</td>\n",
       "      <td>1</td>\n",
       "    </tr>\n",
       "    <tr>\n",
       "      <th>69</th>\n",
       "      <td>49.0</td>\n",
       "      <td>18.0</td>\n",
       "      <td>150000.0</td>\n",
       "      <td>11</td>\n",
       "      <td>1</td>\n",
       "      <td>0</td>\n",
       "    </tr>\n",
       "    <tr>\n",
       "      <th>77</th>\n",
       "      <td>32.0</td>\n",
       "      <td>6.0</td>\n",
       "      <td>100000.0</td>\n",
       "      <td>20</td>\n",
       "      <td>1</td>\n",
       "      <td>1</td>\n",
       "    </tr>\n",
       "  </tbody>\n",
       "</table>\n",
       "</div>"
      ],
      "text/plain": [
       "     Age  Years of Experience    Salary  Job Title Encoded  \\\n",
       "47  45.0                 16.0  180000.0                  0   \n",
       "60  51.0                 23.0  170000.0                  1   \n",
       "63  47.0                 21.0  180000.0                 10   \n",
       "69  49.0                 18.0  150000.0                 11   \n",
       "77  32.0                  6.0  100000.0                 20   \n",
       "\n",
       "    Eduation Level Encoded  Gender Encoded  \n",
       "47                       1               0  \n",
       "60                       1               0  \n",
       "63                       2               1  \n",
       "69                       1               0  \n",
       "77                       1               1  "
      ]
     },
     "execution_count": 35,
     "metadata": {},
     "output_type": "execute_result"
    }
   ],
   "source": [
    "# Displaying the final DataFrame after dropping unnecessary columns\n",
    "df_final = df_edited.drop(['Gender', 'Education Level', 'Job Title'], axis=1)\n",
    "df_final.head()"
   ]
  },
  {
   "cell_type": "code",
   "execution_count": null,
   "id": "ce8a7f1c",
   "metadata": {},
   "outputs": [
    {
     "name": "stdout",
     "output_type": "stream",
     "text": [
      "<class 'pandas.core.frame.DataFrame'>\n",
      "Index: 147 entries, 47 to 374\n",
      "Data columns (total 6 columns):\n",
      " #   Column                  Non-Null Count  Dtype  \n",
      "---  ------                  --------------  -----  \n",
      " 0   Age                     147 non-null    float64\n",
      " 1   Years of Experience     147 non-null    float64\n",
      " 2   Salary                  147 non-null    float64\n",
      " 3   Job Title Encoded       147 non-null    int8   \n",
      " 4   Eduation Level Encoded  147 non-null    int8   \n",
      " 5   Gender Encoded          147 non-null    int8   \n",
      "dtypes: float64(3), int8(3)\n",
      "memory usage: 5.0 KB\n"
     ]
    }
   ],
   "source": [
    "# Displaying the final DataFrame's data types\n",
    "df_final.info()"
   ]
  },
  {
   "cell_type": "code",
   "execution_count": null,
   "id": "299dfd2b",
   "metadata": {},
   "outputs": [],
   "source": [
    "import numpy as np \n",
    "import pickle\n",
    "from sklearn.model_selection import train_test_split\n",
    "from sklearn.linear_model import LinearRegression\n",
    "from sklearn.metrics import mean_squared_error"
   ]
  },
  {
   "cell_type": "code",
   "execution_count": 40,
   "id": "90a8dd8f",
   "metadata": {},
   "outputs": [],
   "source": [
    "# Splitting the data into training and testing sets\n",
    "X = df_final.iloc[:,[0,1,3,4,5]]\n",
    "y = df_final.iloc[:,2]\n",
    " "
   ]
  },
  {
   "cell_type": "code",
   "execution_count": 42,
   "id": "ac214b04",
   "metadata": {},
   "outputs": [],
   "source": [
    "# Creating and training the Linear Regression model\n",
    "X_train, X_test, y_train, y_test = train_test_split(X, y, test_size=0.2)\n"
   ]
  },
  {
   "cell_type": "code",
   "execution_count": 44,
   "id": "422123f2",
   "metadata": {},
   "outputs": [
    {
     "data": {
      "application/vnd.microsoft.datawrangler.viewer.v0+json": {
       "columns": [
        {
         "name": "index",
         "rawType": "int64",
         "type": "integer"
        },
        {
         "name": "Age",
         "rawType": "float64",
         "type": "float"
        },
        {
         "name": "Years of Experience",
         "rawType": "float64",
         "type": "float"
        },
        {
         "name": "Job Title Encoded",
         "rawType": "int8",
         "type": "integer"
        },
        {
         "name": "Eduation Level Encoded",
         "rawType": "int8",
         "type": "integer"
        },
        {
         "name": "Gender Encoded",
         "rawType": "int8",
         "type": "integer"
        }
       ],
       "ref": "e1dc12d8-aaa9-462b-923a-051db52b1a6d",
       "rows": [
        [
         "224",
         "28.0",
         "2.0",
         "4",
         "0",
         "1"
        ],
        [
         "366",
         "31.0",
         "3.0",
         "4",
         "0",
         "0"
        ],
        [
         "115",
         "31.0",
         "6.0",
         "11",
         "1",
         "1"
        ],
        [
         "121",
         "53.0",
         "25.0",
         "0",
         "1",
         "1"
        ],
        [
         "312",
         "44.0",
         "15.0",
         "16",
         "2",
         "0"
        ]
       ],
       "shape": {
        "columns": 5,
        "rows": 5
       }
      },
      "text/html": [
       "<div>\n",
       "<style scoped>\n",
       "    .dataframe tbody tr th:only-of-type {\n",
       "        vertical-align: middle;\n",
       "    }\n",
       "\n",
       "    .dataframe tbody tr th {\n",
       "        vertical-align: top;\n",
       "    }\n",
       "\n",
       "    .dataframe thead th {\n",
       "        text-align: right;\n",
       "    }\n",
       "</style>\n",
       "<table border=\"1\" class=\"dataframe\">\n",
       "  <thead>\n",
       "    <tr style=\"text-align: right;\">\n",
       "      <th></th>\n",
       "      <th>Age</th>\n",
       "      <th>Years of Experience</th>\n",
       "      <th>Job Title Encoded</th>\n",
       "      <th>Eduation Level Encoded</th>\n",
       "      <th>Gender Encoded</th>\n",
       "    </tr>\n",
       "  </thead>\n",
       "  <tbody>\n",
       "    <tr>\n",
       "      <th>224</th>\n",
       "      <td>28.0</td>\n",
       "      <td>2.0</td>\n",
       "      <td>4</td>\n",
       "      <td>0</td>\n",
       "      <td>1</td>\n",
       "    </tr>\n",
       "    <tr>\n",
       "      <th>366</th>\n",
       "      <td>31.0</td>\n",
       "      <td>3.0</td>\n",
       "      <td>4</td>\n",
       "      <td>0</td>\n",
       "      <td>0</td>\n",
       "    </tr>\n",
       "    <tr>\n",
       "      <th>115</th>\n",
       "      <td>31.0</td>\n",
       "      <td>6.0</td>\n",
       "      <td>11</td>\n",
       "      <td>1</td>\n",
       "      <td>1</td>\n",
       "    </tr>\n",
       "    <tr>\n",
       "      <th>121</th>\n",
       "      <td>53.0</td>\n",
       "      <td>25.0</td>\n",
       "      <td>0</td>\n",
       "      <td>1</td>\n",
       "      <td>1</td>\n",
       "    </tr>\n",
       "    <tr>\n",
       "      <th>312</th>\n",
       "      <td>44.0</td>\n",
       "      <td>15.0</td>\n",
       "      <td>16</td>\n",
       "      <td>2</td>\n",
       "      <td>0</td>\n",
       "    </tr>\n",
       "  </tbody>\n",
       "</table>\n",
       "</div>"
      ],
      "text/plain": [
       "      Age  Years of Experience  Job Title Encoded  Eduation Level Encoded  \\\n",
       "224  28.0                  2.0                  4                       0   \n",
       "366  31.0                  3.0                  4                       0   \n",
       "115  31.0                  6.0                 11                       1   \n",
       "121  53.0                 25.0                  0                       1   \n",
       "312  44.0                 15.0                 16                       2   \n",
       "\n",
       "     Gender Encoded  \n",
       "224               1  \n",
       "366               0  \n",
       "115               1  \n",
       "121               1  \n",
       "312               0  "
      ]
     },
     "execution_count": 44,
     "metadata": {},
     "output_type": "execute_result"
    }
   ],
   "source": [
    "X_train.head()"
   ]
  },
  {
   "cell_type": "code",
   "execution_count": 45,
   "id": "5309ac27",
   "metadata": {},
   "outputs": [
    {
     "data": {
      "application/vnd.microsoft.datawrangler.viewer.v0+json": {
       "columns": [
        {
         "name": "index",
         "rawType": "int64",
         "type": "integer"
        },
        {
         "name": "Salary",
         "rawType": "float64",
         "type": "float"
        }
       ],
       "ref": "d5a9ec1c-694d-4590-a2c8-2dceb3f3469e",
       "rows": [
        [
         "224",
         "40000.0"
        ],
        [
         "366",
         "50000.0"
        ],
        [
         "115",
         "95000.0"
        ],
        [
         "121",
         "180000.0"
        ],
        [
         "312",
         "150000.0"
        ]
       ],
       "shape": {
        "columns": 1,
        "rows": 5
       }
      },
      "text/plain": [
       "224     40000.0\n",
       "366     50000.0\n",
       "115     95000.0\n",
       "121    180000.0\n",
       "312    150000.0\n",
       "Name: Salary, dtype: float64"
      ]
     },
     "execution_count": 45,
     "metadata": {},
     "output_type": "execute_result"
    }
   ],
   "source": [
    "y_train.head()"
   ]
  },
  {
   "cell_type": "code",
   "execution_count": 46,
   "id": "574e347e",
   "metadata": {},
   "outputs": [
    {
     "data": {
      "text/html": [
       "<style>#sk-container-id-1 {color: black;background-color: white;}#sk-container-id-1 pre{padding: 0;}#sk-container-id-1 div.sk-toggleable {background-color: white;}#sk-container-id-1 label.sk-toggleable__label {cursor: pointer;display: block;width: 100%;margin-bottom: 0;padding: 0.3em;box-sizing: border-box;text-align: center;}#sk-container-id-1 label.sk-toggleable__label-arrow:before {content: \"▸\";float: left;margin-right: 0.25em;color: #696969;}#sk-container-id-1 label.sk-toggleable__label-arrow:hover:before {color: black;}#sk-container-id-1 div.sk-estimator:hover label.sk-toggleable__label-arrow:before {color: black;}#sk-container-id-1 div.sk-toggleable__content {max-height: 0;max-width: 0;overflow: hidden;text-align: left;background-color: #f0f8ff;}#sk-container-id-1 div.sk-toggleable__content pre {margin: 0.2em;color: black;border-radius: 0.25em;background-color: #f0f8ff;}#sk-container-id-1 input.sk-toggleable__control:checked~div.sk-toggleable__content {max-height: 200px;max-width: 100%;overflow: auto;}#sk-container-id-1 input.sk-toggleable__control:checked~label.sk-toggleable__label-arrow:before {content: \"▾\";}#sk-container-id-1 div.sk-estimator input.sk-toggleable__control:checked~label.sk-toggleable__label {background-color: #d4ebff;}#sk-container-id-1 div.sk-label input.sk-toggleable__control:checked~label.sk-toggleable__label {background-color: #d4ebff;}#sk-container-id-1 input.sk-hidden--visually {border: 0;clip: rect(1px 1px 1px 1px);clip: rect(1px, 1px, 1px, 1px);height: 1px;margin: -1px;overflow: hidden;padding: 0;position: absolute;width: 1px;}#sk-container-id-1 div.sk-estimator {font-family: monospace;background-color: #f0f8ff;border: 1px dotted black;border-radius: 0.25em;box-sizing: border-box;margin-bottom: 0.5em;}#sk-container-id-1 div.sk-estimator:hover {background-color: #d4ebff;}#sk-container-id-1 div.sk-parallel-item::after {content: \"\";width: 100%;border-bottom: 1px solid gray;flex-grow: 1;}#sk-container-id-1 div.sk-label:hover label.sk-toggleable__label {background-color: #d4ebff;}#sk-container-id-1 div.sk-serial::before {content: \"\";position: absolute;border-left: 1px solid gray;box-sizing: border-box;top: 0;bottom: 0;left: 50%;z-index: 0;}#sk-container-id-1 div.sk-serial {display: flex;flex-direction: column;align-items: center;background-color: white;padding-right: 0.2em;padding-left: 0.2em;position: relative;}#sk-container-id-1 div.sk-item {position: relative;z-index: 1;}#sk-container-id-1 div.sk-parallel {display: flex;align-items: stretch;justify-content: center;background-color: white;position: relative;}#sk-container-id-1 div.sk-item::before, #sk-container-id-1 div.sk-parallel-item::before {content: \"\";position: absolute;border-left: 1px solid gray;box-sizing: border-box;top: 0;bottom: 0;left: 50%;z-index: -1;}#sk-container-id-1 div.sk-parallel-item {display: flex;flex-direction: column;z-index: 1;position: relative;background-color: white;}#sk-container-id-1 div.sk-parallel-item:first-child::after {align-self: flex-end;width: 50%;}#sk-container-id-1 div.sk-parallel-item:last-child::after {align-self: flex-start;width: 50%;}#sk-container-id-1 div.sk-parallel-item:only-child::after {width: 0;}#sk-container-id-1 div.sk-dashed-wrapped {border: 1px dashed gray;margin: 0 0.4em 0.5em 0.4em;box-sizing: border-box;padding-bottom: 0.4em;background-color: white;}#sk-container-id-1 div.sk-label label {font-family: monospace;font-weight: bold;display: inline-block;line-height: 1.2em;}#sk-container-id-1 div.sk-label-container {text-align: center;}#sk-container-id-1 div.sk-container {/* jupyter's `normalize.less` sets `[hidden] { display: none; }` but bootstrap.min.css set `[hidden] { display: none !important; }` so we also need the `!important` here to be able to override the default hidden behavior on the sphinx rendered scikit-learn.org. See: https://github.com/scikit-learn/scikit-learn/issues/21755 */display: inline-block !important;position: relative;}#sk-container-id-1 div.sk-text-repr-fallback {display: none;}</style><div id=\"sk-container-id-1\" class=\"sk-top-container\"><div class=\"sk-text-repr-fallback\"><pre>LinearRegression()</pre><b>In a Jupyter environment, please rerun this cell to show the HTML representation or trust the notebook. <br />On GitHub, the HTML representation is unable to render, please try loading this page with nbviewer.org.</b></div><div class=\"sk-container\" hidden><div class=\"sk-item\"><div class=\"sk-estimator sk-toggleable\"><input class=\"sk-toggleable__control sk-hidden--visually\" id=\"sk-estimator-id-1\" type=\"checkbox\" checked><label for=\"sk-estimator-id-1\" class=\"sk-toggleable__label sk-toggleable__label-arrow\">LinearRegression</label><div class=\"sk-toggleable__content\"><pre>LinearRegression()</pre></div></div></div></div></div>"
      ],
      "text/plain": [
       "LinearRegression()"
      ]
     },
     "execution_count": 46,
     "metadata": {},
     "output_type": "execute_result"
    }
   ],
   "source": [
    "# Making predictions on the test set\n",
    "reg = LinearRegression()\n",
    "reg.fit(X_train, y_train)"
   ]
  },
  {
   "cell_type": "code",
   "execution_count": 47,
   "id": "449aca89",
   "metadata": {},
   "outputs": [],
   "source": [
    "# Calculating the Mean Squared Error\n",
    "y_pred = reg.predict(X_test)\n"
   ]
  },
  {
   "cell_type": "code",
   "execution_count": 49,
   "id": "56898472",
   "metadata": {},
   "outputs": [],
   "source": [
    "# Displaying the Mean Squared Error\n",
    "err = np.sqrt(mean_squared_error(y_test, y_pred))"
   ]
  },
  {
   "cell_type": "code",
   "execution_count": 50,
   "id": "84961af5",
   "metadata": {},
   "outputs": [
    {
     "data": {
      "text/plain": [
       "(array([128147.93392055,  41909.19635678,  55403.86932187, 148609.66988595,\n",
       "         87923.44464282, 186752.96112229, 116631.98197258,  88844.45580255,\n",
       "         52757.18064477,  64954.96803052,  87557.85811014, 128274.35978376,\n",
       "        164779.57150358, 101319.67928352, 183206.40454841, 134759.69827512,\n",
       "        119205.17735738,  46739.116343  , 100135.32168465,  46197.78137203,\n",
       "        175645.4321643 ,  56500.62891989,  87923.44464282,  66607.1522556 ,\n",
       "         61421.93362363, 176200.85679135,  97787.21236571, 161289.37355398,\n",
       "         52026.00757942, 188486.24217795]),\n",
       " 315    130000.0\n",
       " 310     35000.0\n",
       " 351     55000.0\n",
       " 285    150000.0\n",
       " 213     85000.0\n",
       " 63     180000.0\n",
       " 331    130000.0\n",
       " 358     95000.0\n",
       " 263     50000.0\n",
       " 156     50000.0\n",
       " 364     90000.0\n",
       " 104     80000.0\n",
       " 176    140000.0\n",
       " 154     95000.0\n",
       " 88     135000.0\n",
       " 234    140000.0\n",
       " 264    110000.0\n",
       " 336     40000.0\n",
       " 290    110000.0\n",
       " 250     40000.0\n",
       " 279    180000.0\n",
       " 301     55000.0\n",
       " 314     85000.0\n",
       " 122     50000.0\n",
       " 369     60000.0\n",
       " 130    160000.0\n",
       " 275    120000.0\n",
       " 69     150000.0\n",
       " 354     50000.0\n",
       " 217    180000.0\n",
       " Name: Salary, dtype: float64)"
      ]
     },
     "execution_count": 50,
     "metadata": {},
     "output_type": "execute_result"
    }
   ],
   "source": [
    "y_pred,y_test"
   ]
  },
  {
   "cell_type": "code",
   "execution_count": null,
   "id": "88bf4b29",
   "metadata": {},
   "outputs": [
    {
     "data": {
      "text/plain": [
       "15737.242137075868"
      ]
     },
     "execution_count": 51,
     "metadata": {},
     "output_type": "execute_result"
    }
   ],
   "source": [
    "err"
   ]
  },
  {
   "cell_type": "code",
   "execution_count": 52,
   "id": "1a1fea55",
   "metadata": {},
   "outputs": [
    {
     "name": "stdout",
     "output_type": "stream",
     "text": [
      "                        0            1\n",
      "0                     Age   555.424627\n",
      "1     Years of Experience  6003.974646\n",
      "2       Job Title Encoded   365.586533\n",
      "3  Eduation Level Encoded  6281.410741\n",
      "4          Gender Encoded  2646.688677\n",
      "15699.160605781013\n"
     ]
    }
   ],
   "source": [
    "# Saving the model using pickle\n",
    "print(pd.DataFrame(zip(X.columns,reg.coef_)))\n",
    "print(reg.intercept_)"
   ]
  },
  {
   "cell_type": "code",
   "execution_count": null,
   "id": "c9e55c67",
   "metadata": {},
   "outputs": [],
   "source": [
    "# Loading the model from the pickle file\n",
    "pickle.dump(reg,open('model.pkl','wb'))"
   ]
  }
 ],
 "metadata": {
  "kernelspec": {
   "display_name": "base",
   "language": "python",
   "name": "python3"
  },
  "language_info": {
   "codemirror_mode": {
    "name": "ipython",
    "version": 3
   },
   "file_extension": ".py",
   "mimetype": "text/x-python",
   "name": "python",
   "nbconvert_exporter": "python",
   "pygments_lexer": "ipython3",
   "version": "3.11.7"
  }
 },
 "nbformat": 4,
 "nbformat_minor": 5
}
