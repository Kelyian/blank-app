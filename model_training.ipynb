{
 "cells": [
  {
   "cell_type": "code",
   "execution_count": 34,
   "id": "8e77f55a",
   "metadata": {},
   "outputs": [
    {
     "data": {
      "application/vnd.microsoft.datawrangler.viewer.v0+json": {
       "columns": [
        {
         "name": "index",
         "rawType": "int64",
         "type": "integer"
        },
        {
         "name": "Age",
         "rawType": "float64",
         "type": "float"
        },
        {
         "name": "Gender",
         "rawType": "object",
         "type": "string"
        },
        {
         "name": "Education Level",
         "rawType": "object",
         "type": "string"
        },
        {
         "name": "Job Title",
         "rawType": "object",
         "type": "string"
        },
        {
         "name": "Years of Experience",
         "rawType": "float64",
         "type": "float"
        },
        {
         "name": "Salary",
         "rawType": "float64",
         "type": "float"
        }
       ],
       "ref": "7ebf3e81-720b-4a7e-b66c-9afd87355335",
       "rows": [
        [
         "0",
         "32.0",
         "Male",
         "Bachelor's",
         "Software Engineer",
         "5.0",
         "90000.0"
        ],
        [
         "1",
         "28.0",
         "Female",
         "Master's",
         "Data Analyst",
         "3.0",
         "65000.0"
        ],
        [
         "2",
         "45.0",
         "Male",
         "PhD",
         "Senior Manager",
         "15.0",
         "150000.0"
        ],
        [
         "3",
         "36.0",
         "Female",
         "Bachelor's",
         "Sales Associate",
         "7.0",
         "60000.0"
        ],
        [
         "4",
         "52.0",
         "Male",
         "Master's",
         "Director",
         "20.0",
         "200000.0"
        ]
       ],
       "shape": {
        "columns": 6,
        "rows": 5
       }
      },
      "text/html": [
       "<div>\n",
       "<style scoped>\n",
       "    .dataframe tbody tr th:only-of-type {\n",
       "        vertical-align: middle;\n",
       "    }\n",
       "\n",
       "    .dataframe tbody tr th {\n",
       "        vertical-align: top;\n",
       "    }\n",
       "\n",
       "    .dataframe thead th {\n",
       "        text-align: right;\n",
       "    }\n",
       "</style>\n",
       "<table border=\"1\" class=\"dataframe\">\n",
       "  <thead>\n",
       "    <tr style=\"text-align: right;\">\n",
       "      <th></th>\n",
       "      <th>Age</th>\n",
       "      <th>Gender</th>\n",
       "      <th>Education Level</th>\n",
       "      <th>Job Title</th>\n",
       "      <th>Years of Experience</th>\n",
       "      <th>Salary</th>\n",
       "    </tr>\n",
       "  </thead>\n",
       "  <tbody>\n",
       "    <tr>\n",
       "      <th>0</th>\n",
       "      <td>32.0</td>\n",
       "      <td>Male</td>\n",
       "      <td>Bachelor's</td>\n",
       "      <td>Software Engineer</td>\n",
       "      <td>5.0</td>\n",
       "      <td>90000.0</td>\n",
       "    </tr>\n",
       "    <tr>\n",
       "      <th>1</th>\n",
       "      <td>28.0</td>\n",
       "      <td>Female</td>\n",
       "      <td>Master's</td>\n",
       "      <td>Data Analyst</td>\n",
       "      <td>3.0</td>\n",
       "      <td>65000.0</td>\n",
       "    </tr>\n",
       "    <tr>\n",
       "      <th>2</th>\n",
       "      <td>45.0</td>\n",
       "      <td>Male</td>\n",
       "      <td>PhD</td>\n",
       "      <td>Senior Manager</td>\n",
       "      <td>15.0</td>\n",
       "      <td>150000.0</td>\n",
       "    </tr>\n",
       "    <tr>\n",
       "      <th>3</th>\n",
       "      <td>36.0</td>\n",
       "      <td>Female</td>\n",
       "      <td>Bachelor's</td>\n",
       "      <td>Sales Associate</td>\n",
       "      <td>7.0</td>\n",
       "      <td>60000.0</td>\n",
       "    </tr>\n",
       "    <tr>\n",
       "      <th>4</th>\n",
       "      <td>52.0</td>\n",
       "      <td>Male</td>\n",
       "      <td>Master's</td>\n",
       "      <td>Director</td>\n",
       "      <td>20.0</td>\n",
       "      <td>200000.0</td>\n",
       "    </tr>\n",
       "  </tbody>\n",
       "</table>\n",
       "</div>"
      ],
      "text/plain": [
       "    Age  Gender Education Level          Job Title  Years of Experience  \\\n",
       "0  32.0    Male      Bachelor's  Software Engineer                  5.0   \n",
       "1  28.0  Female        Master's       Data Analyst                  3.0   \n",
       "2  45.0    Male             PhD     Senior Manager                 15.0   \n",
       "3  36.0  Female      Bachelor's    Sales Associate                  7.0   \n",
       "4  52.0    Male        Master's           Director                 20.0   \n",
       "\n",
       "     Salary  \n",
       "0   90000.0  \n",
       "1   65000.0  \n",
       "2  150000.0  \n",
       "3   60000.0  \n",
       "4  200000.0  "
      ]
     },
     "execution_count": 34,
     "metadata": {},
     "output_type": "execute_result"
    }
   ],
   "source": [
    "import pandas as pd\n",
    "\n",
    "# Loading  the CSV file into a DataFrame\n",
    "df = pd.read_csv(r\"C:\\Users\\sanke\\Downloads\\salaryData.csv\")\n",
    "\n",
    "# Display the first few rows of the DataFrame\n",
    "df.head()"
   ]
  },
  {
   "cell_type": "code",
   "execution_count": 35,
   "id": "c7f7bb03",
   "metadata": {},
   "outputs": [
    {
     "data": {
      "text/plain": [
       "(375, 6)"
      ]
     },
     "execution_count": 35,
     "metadata": {},
     "output_type": "execute_result"
    }
   ],
   "source": [
    "# Display the shape of the DataFrame\n",
    "df.shape"
   ]
  },
  {
   "cell_type": "code",
   "execution_count": 36,
   "id": "85ca6159",
   "metadata": {},
   "outputs": [
    {
     "data": {
      "application/vnd.microsoft.datawrangler.viewer.v0+json": {
       "columns": [
        {
         "name": "index",
         "rawType": "object",
         "type": "string"
        },
        {
         "name": "Age",
         "rawType": "float64",
         "type": "float"
        },
        {
         "name": "Years of Experience",
         "rawType": "float64",
         "type": "float"
        },
        {
         "name": "Salary",
         "rawType": "float64",
         "type": "float"
        }
       ],
       "ref": "544ac3c0-9c7c-4fdf-b873-8a7d07570405",
       "rows": [
        [
         "count",
         "373.0",
         "373.0",
         "373.0"
        ],
        [
         "mean",
         "37.43163538873995",
         "10.03083109919571",
         "100577.34584450402"
        ],
        [
         "std",
         "7.069072938567494",
         "6.557007136414237",
         "48240.013481882655"
        ],
        [
         "min",
         "23.0",
         "0.0",
         "350.0"
        ],
        [
         "25%",
         "31.0",
         "4.0",
         "55000.0"
        ],
        [
         "50%",
         "36.0",
         "9.0",
         "95000.0"
        ],
        [
         "75%",
         "44.0",
         "15.0",
         "140000.0"
        ],
        [
         "max",
         "53.0",
         "25.0",
         "250000.0"
        ]
       ],
       "shape": {
        "columns": 3,
        "rows": 8
       }
      },
      "text/html": [
       "<div>\n",
       "<style scoped>\n",
       "    .dataframe tbody tr th:only-of-type {\n",
       "        vertical-align: middle;\n",
       "    }\n",
       "\n",
       "    .dataframe tbody tr th {\n",
       "        vertical-align: top;\n",
       "    }\n",
       "\n",
       "    .dataframe thead th {\n",
       "        text-align: right;\n",
       "    }\n",
       "</style>\n",
       "<table border=\"1\" class=\"dataframe\">\n",
       "  <thead>\n",
       "    <tr style=\"text-align: right;\">\n",
       "      <th></th>\n",
       "      <th>Age</th>\n",
       "      <th>Years of Experience</th>\n",
       "      <th>Salary</th>\n",
       "    </tr>\n",
       "  </thead>\n",
       "  <tbody>\n",
       "    <tr>\n",
       "      <th>count</th>\n",
       "      <td>373.000000</td>\n",
       "      <td>373.000000</td>\n",
       "      <td>373.000000</td>\n",
       "    </tr>\n",
       "    <tr>\n",
       "      <th>mean</th>\n",
       "      <td>37.431635</td>\n",
       "      <td>10.030831</td>\n",
       "      <td>100577.345845</td>\n",
       "    </tr>\n",
       "    <tr>\n",
       "      <th>std</th>\n",
       "      <td>7.069073</td>\n",
       "      <td>6.557007</td>\n",
       "      <td>48240.013482</td>\n",
       "    </tr>\n",
       "    <tr>\n",
       "      <th>min</th>\n",
       "      <td>23.000000</td>\n",
       "      <td>0.000000</td>\n",
       "      <td>350.000000</td>\n",
       "    </tr>\n",
       "    <tr>\n",
       "      <th>25%</th>\n",
       "      <td>31.000000</td>\n",
       "      <td>4.000000</td>\n",
       "      <td>55000.000000</td>\n",
       "    </tr>\n",
       "    <tr>\n",
       "      <th>50%</th>\n",
       "      <td>36.000000</td>\n",
       "      <td>9.000000</td>\n",
       "      <td>95000.000000</td>\n",
       "    </tr>\n",
       "    <tr>\n",
       "      <th>75%</th>\n",
       "      <td>44.000000</td>\n",
       "      <td>15.000000</td>\n",
       "      <td>140000.000000</td>\n",
       "    </tr>\n",
       "    <tr>\n",
       "      <th>max</th>\n",
       "      <td>53.000000</td>\n",
       "      <td>25.000000</td>\n",
       "      <td>250000.000000</td>\n",
       "    </tr>\n",
       "  </tbody>\n",
       "</table>\n",
       "</div>"
      ],
      "text/plain": [
       "              Age  Years of Experience         Salary\n",
       "count  373.000000           373.000000     373.000000\n",
       "mean    37.431635            10.030831  100577.345845\n",
       "std      7.069073             6.557007   48240.013482\n",
       "min     23.000000             0.000000     350.000000\n",
       "25%     31.000000             4.000000   55000.000000\n",
       "50%     36.000000             9.000000   95000.000000\n",
       "75%     44.000000            15.000000  140000.000000\n",
       "max     53.000000            25.000000  250000.000000"
      ]
     },
     "execution_count": 36,
     "metadata": {},
     "output_type": "execute_result"
    }
   ],
   "source": [
    "# Displaying  the summary statistics of the DataFrame\n",
    "df.describe()"
   ]
  },
  {
   "cell_type": "code",
   "execution_count": 37,
   "id": "63ab1b91",
   "metadata": {},
   "outputs": [
    {
     "data": {
      "application/vnd.microsoft.datawrangler.viewer.v0+json": {
       "columns": [
        {
         "name": "index",
         "rawType": "object",
         "type": "string"
        },
        {
         "name": "0",
         "rawType": "int64",
         "type": "integer"
        }
       ],
       "ref": "62bcc7e0-a757-488d-bfda-24841a6f476d",
       "rows": [
        [
         "Age",
         "2"
        ],
        [
         "Gender",
         "2"
        ],
        [
         "Education Level",
         "2"
        ],
        [
         "Job Title",
         "2"
        ],
        [
         "Years of Experience",
         "2"
        ],
        [
         "Salary",
         "2"
        ]
       ],
       "shape": {
        "columns": 1,
        "rows": 6
       }
      },
      "text/plain": [
       "Age                    2\n",
       "Gender                 2\n",
       "Education Level        2\n",
       "Job Title              2\n",
       "Years of Experience    2\n",
       "Salary                 2\n",
       "dtype: int64"
      ]
     },
     "execution_count": 37,
     "metadata": {},
     "output_type": "execute_result"
    }
   ],
   "source": [
    "#displaying the data trypes of each column\n",
    "df.isnull().sum()"
   ]
  },
  {
   "cell_type": "code",
   "execution_count": 38,
   "id": "5d91c2f8",
   "metadata": {},
   "outputs": [],
   "source": [
    "#dropping null values\n",
    "df = df.dropna()"
   ]
  },
  {
   "cell_type": "code",
   "execution_count": 39,
   "id": "8d70d67b",
   "metadata": {},
   "outputs": [
    {
     "data": {
      "application/vnd.microsoft.datawrangler.viewer.v0+json": {
       "columns": [
        {
         "name": "index",
         "rawType": "object",
         "type": "string"
        },
        {
         "name": "0",
         "rawType": "int64",
         "type": "integer"
        }
       ],
       "ref": "f8ab6684-cbfd-4ede-b83f-5baf659f20de",
       "rows": [
        [
         "Age",
         "0"
        ],
        [
         "Gender",
         "0"
        ],
        [
         "Education Level",
         "0"
        ],
        [
         "Job Title",
         "0"
        ],
        [
         "Years of Experience",
         "0"
        ],
        [
         "Salary",
         "0"
        ]
       ],
       "shape": {
        "columns": 1,
        "rows": 6
       }
      },
      "text/plain": [
       "Age                    0\n",
       "Gender                 0\n",
       "Education Level        0\n",
       "Job Title              0\n",
       "Years of Experience    0\n",
       "Salary                 0\n",
       "dtype: int64"
      ]
     },
     "execution_count": 39,
     "metadata": {},
     "output_type": "execute_result"
    }
   ],
   "source": [
    "#displaying the data types after dropping null values\n",
    "df.isnull().sum()"
   ]
  },
  {
   "cell_type": "code",
   "execution_count": 40,
   "id": "40674fde",
   "metadata": {},
   "outputs": [
    {
     "data": {
      "application/vnd.microsoft.datawrangler.viewer.v0+json": {
       "columns": [
        {
         "name": "index",
         "rawType": "object",
         "type": "string"
        },
        {
         "name": "Age",
         "rawType": "float64",
         "type": "float"
        },
        {
         "name": "Years of Experience",
         "rawType": "float64",
         "type": "float"
        },
        {
         "name": "Salary",
         "rawType": "float64",
         "type": "float"
        }
       ],
       "ref": "445ab88c-c118-4c23-99fd-bb3421bf5b97",
       "rows": [
        [
         "count",
         "373.0",
         "373.0",
         "373.0"
        ],
        [
         "mean",
         "37.43163538873995",
         "10.03083109919571",
         "100577.34584450402"
        ],
        [
         "std",
         "7.069072938567495",
         "6.557007136414237",
         "48240.013481882655"
        ],
        [
         "min",
         "23.0",
         "0.0",
         "350.0"
        ],
        [
         "25%",
         "31.0",
         "4.0",
         "55000.0"
        ],
        [
         "50%",
         "36.0",
         "9.0",
         "95000.0"
        ],
        [
         "75%",
         "44.0",
         "15.0",
         "140000.0"
        ],
        [
         "max",
         "53.0",
         "25.0",
         "250000.0"
        ]
       ],
       "shape": {
        "columns": 3,
        "rows": 8
       }
      },
      "text/html": [
       "<div>\n",
       "<style scoped>\n",
       "    .dataframe tbody tr th:only-of-type {\n",
       "        vertical-align: middle;\n",
       "    }\n",
       "\n",
       "    .dataframe tbody tr th {\n",
       "        vertical-align: top;\n",
       "    }\n",
       "\n",
       "    .dataframe thead th {\n",
       "        text-align: right;\n",
       "    }\n",
       "</style>\n",
       "<table border=\"1\" class=\"dataframe\">\n",
       "  <thead>\n",
       "    <tr style=\"text-align: right;\">\n",
       "      <th></th>\n",
       "      <th>Age</th>\n",
       "      <th>Years of Experience</th>\n",
       "      <th>Salary</th>\n",
       "    </tr>\n",
       "  </thead>\n",
       "  <tbody>\n",
       "    <tr>\n",
       "      <th>count</th>\n",
       "      <td>373.000000</td>\n",
       "      <td>373.000000</td>\n",
       "      <td>373.000000</td>\n",
       "    </tr>\n",
       "    <tr>\n",
       "      <th>mean</th>\n",
       "      <td>37.431635</td>\n",
       "      <td>10.030831</td>\n",
       "      <td>100577.345845</td>\n",
       "    </tr>\n",
       "    <tr>\n",
       "      <th>std</th>\n",
       "      <td>7.069073</td>\n",
       "      <td>6.557007</td>\n",
       "      <td>48240.013482</td>\n",
       "    </tr>\n",
       "    <tr>\n",
       "      <th>min</th>\n",
       "      <td>23.000000</td>\n",
       "      <td>0.000000</td>\n",
       "      <td>350.000000</td>\n",
       "    </tr>\n",
       "    <tr>\n",
       "      <th>25%</th>\n",
       "      <td>31.000000</td>\n",
       "      <td>4.000000</td>\n",
       "      <td>55000.000000</td>\n",
       "    </tr>\n",
       "    <tr>\n",
       "      <th>50%</th>\n",
       "      <td>36.000000</td>\n",
       "      <td>9.000000</td>\n",
       "      <td>95000.000000</td>\n",
       "    </tr>\n",
       "    <tr>\n",
       "      <th>75%</th>\n",
       "      <td>44.000000</td>\n",
       "      <td>15.000000</td>\n",
       "      <td>140000.000000</td>\n",
       "    </tr>\n",
       "    <tr>\n",
       "      <th>max</th>\n",
       "      <td>53.000000</td>\n",
       "      <td>25.000000</td>\n",
       "      <td>250000.000000</td>\n",
       "    </tr>\n",
       "  </tbody>\n",
       "</table>\n",
       "</div>"
      ],
      "text/plain": [
       "              Age  Years of Experience         Salary\n",
       "count  373.000000           373.000000     373.000000\n",
       "mean    37.431635            10.030831  100577.345845\n",
       "std      7.069073             6.557007   48240.013482\n",
       "min     23.000000             0.000000     350.000000\n",
       "25%     31.000000             4.000000   55000.000000\n",
       "50%     36.000000             9.000000   95000.000000\n",
       "75%     44.000000            15.000000  140000.000000\n",
       "max     53.000000            25.000000  250000.000000"
      ]
     },
     "execution_count": 40,
     "metadata": {},
     "output_type": "execute_result"
    }
   ],
   "source": [
    "#summary statistics for the data frame after dropping null values\n",
    "df.describe()"
   ]
  },
  {
   "cell_type": "code",
   "execution_count": 41,
   "id": "cbf709e7",
   "metadata": {},
   "outputs": [
    {
     "data": {
      "application/vnd.microsoft.datawrangler.viewer.v0+json": {
       "columns": [
        {
         "name": "index",
         "rawType": "object",
         "type": "string"
        },
        {
         "name": "0",
         "rawType": "object",
         "type": "unknown"
        }
       ],
       "ref": "db7b024e-7810-4738-bd87-428e1ec95085",
       "rows": [
        [
         "Age",
         "float64"
        ],
        [
         "Gender",
         "object"
        ],
        [
         "Education Level",
         "object"
        ],
        [
         "Job Title",
         "object"
        ],
        [
         "Years of Experience",
         "float64"
        ],
        [
         "Salary",
         "float64"
        ]
       ],
       "shape": {
        "columns": 1,
        "rows": 6
       }
      },
      "text/plain": [
       "Age                    float64\n",
       "Gender                  object\n",
       "Education Level         object\n",
       "Job Title               object\n",
       "Years of Experience    float64\n",
       "Salary                 float64\n",
       "dtype: object"
      ]
     },
     "execution_count": 41,
     "metadata": {},
     "output_type": "execute_result"
    }
   ],
   "source": [
    "# Displaying the first few rows of the DataFrame after cleaning\n",
    "df.dtypes"
   ]
  },
  {
   "cell_type": "code",
   "execution_count": 42,
   "id": "568527d0",
   "metadata": {},
   "outputs": [
    {
     "data": {
      "application/vnd.microsoft.datawrangler.viewer.v0+json": {
       "columns": [
        {
         "name": "Job Title",
         "rawType": "object",
         "type": "string"
        },
        {
         "name": "count",
         "rawType": "int64",
         "type": "integer"
        }
       ],
       "ref": "8967db47-cab9-4ca6-9d39-8b6ba5cabf2a",
       "rows": [
        [
         "Director of Marketing",
         "12"
        ],
        [
         "Director of Operations",
         "11"
        ],
        [
         "Senior Business Analyst",
         "10"
        ],
        [
         "Senior Marketing Manager",
         "9"
        ],
        [
         "Senior Marketing Analyst",
         "9"
        ],
        [
         "Junior Business Analyst",
         "8"
        ],
        [
         "Senior Project Manager",
         "7"
        ],
        [
         "Senior Data Scientist",
         "7"
        ],
        [
         "Junior Business Development Associate",
         "7"
        ],
        [
         "Junior Financial Analyst",
         "7"
        ],
        [
         "Senior Financial Analyst",
         "7"
        ],
        [
         "Senior Product Manager",
         "6"
        ],
        [
         "Senior Software Engineer",
         "6"
        ],
        [
         "Junior Marketing Coordinator",
         "6"
        ],
        [
         "Senior Project Coordinator",
         "5"
        ],
        [
         "Junior Operations Analyst",
         "5"
        ],
        [
         "Junior Project Manager",
         "5"
        ],
        [
         "Senior Financial Manager",
         "5"
        ],
        [
         "Senior Product Designer",
         "5"
        ],
        [
         "Senior Operations Manager",
         "5"
        ],
        [
         "Junior Marketing Specialist",
         "5"
        ],
        [
         "Senior Business Development Manager",
         "4"
        ],
        [
         "Senior Marketing Specialist",
         "4"
        ],
        [
         "Junior Sales Representative",
         "4"
        ],
        [
         "Senior Operations Coordinator",
         "4"
        ],
        [
         "Senior Data Engineer",
         "4"
        ],
        [
         "Junior Product Manager",
         "4"
        ],
        [
         "Senior Marketing Coordinator",
         "3"
        ],
        [
         "Junior Marketing Analyst",
         "3"
        ],
        [
         "Senior HR Manager",
         "3"
        ],
        [
         "Senior Software Developer",
         "3"
        ],
        [
         "Junior Accountant",
         "3"
        ],
        [
         "Marketing Coordinator",
         "3"
        ],
        [
         "Sales Manager",
         "3"
        ],
        [
         "Senior Scientist",
         "3"
        ],
        [
         "Senior UX Designer",
         "3"
        ],
        [
         "Senior Financial Advisor",
         "3"
        ],
        [
         "Junior Marketing Manager",
         "3"
        ],
        [
         "Junior Operations Manager",
         "3"
        ],
        [
         "Senior Data Analyst",
         "3"
        ],
        [
         "Sales Associate",
         "2"
        ],
        [
         "Project Manager",
         "2"
        ],
        [
         "HR Manager",
         "2"
        ],
        [
         "Marketing Analyst",
         "2"
        ],
        [
         "Data Analyst",
         "2"
        ],
        [
         "Senior Manager",
         "2"
        ],
        [
         "Operations Manager",
         "2"
        ],
        [
         "Senior Engineer",
         "2"
        ],
        [
         "Business Analyst",
         "2"
        ],
        [
         "Recruiter",
         "2"
        ]
       ],
       "shape": {
        "columns": 1,
        "rows": 174
       }
      },
      "text/plain": [
       "Job Title\n",
       "Director of Marketing             12\n",
       "Director of Operations            11\n",
       "Senior Business Analyst           10\n",
       "Senior Marketing Manager           9\n",
       "Senior Marketing Analyst           9\n",
       "                                  ..\n",
       "Junior Social Media Specialist     1\n",
       "Junior Operations Coordinator      1\n",
       "Senior HR Specialist               1\n",
       "Director of HR                     1\n",
       "Junior Financial Advisor           1\n",
       "Name: count, Length: 174, dtype: int64"
      ]
     },
     "execution_count": 42,
     "metadata": {},
     "output_type": "execute_result"
    }
   ],
   "source": [
    "# Displaying the unique values in the 'Job Title' column\n",
    "df['Job Title'].value_counts()"
   ]
  },
  {
   "cell_type": "code",
   "execution_count": 43,
   "id": "2a3fb39e",
   "metadata": {},
   "outputs": [
    {
     "data": {
      "application/vnd.microsoft.datawrangler.viewer.v0+json": {
       "columns": [
        {
         "name": "Education Level",
         "rawType": "object",
         "type": "string"
        },
        {
         "name": "count",
         "rawType": "int64",
         "type": "integer"
        }
       ],
       "ref": "e7a6aa6d-30d6-4c00-9754-03e82df396ca",
       "rows": [
        [
         "Bachelor's",
         "224"
        ],
        [
         "Master's",
         "98"
        ],
        [
         "PhD",
         "51"
        ]
       ],
       "shape": {
        "columns": 1,
        "rows": 3
       }
      },
      "text/plain": [
       "Education Level\n",
       "Bachelor's    224\n",
       "Master's       98\n",
       "PhD            51\n",
       "Name: count, dtype: int64"
      ]
     },
     "execution_count": 43,
     "metadata": {},
     "output_type": "execute_result"
    }
   ],
   "source": [
    "# Displaying the unique values in the 'Education Level' column\n",
    "df['Education Level'].value_counts()"
   ]
  },
  {
   "cell_type": "code",
   "execution_count": 44,
   "id": "427dbf4b",
   "metadata": {},
   "outputs": [
    {
     "name": "stdout",
     "output_type": "stream",
     "text": [
      "<class 'pandas.core.frame.DataFrame'>\n",
      "Index: 147 entries, 47 to 374\n",
      "Data columns (total 6 columns):\n",
      " #   Column               Non-Null Count  Dtype  \n",
      "---  ------               --------------  -----  \n",
      " 0   Age                  147 non-null    float64\n",
      " 1   Gender               147 non-null    object \n",
      " 2   Education Level      147 non-null    object \n",
      " 3   Job Title            147 non-null    object \n",
      " 4   Years of Experience  147 non-null    float64\n",
      " 5   Salary               147 non-null    float64\n",
      "dtypes: float64(3), object(3)\n",
      "memory usage: 8.0+ KB\n"
     ]
    },
    {
     "data": {
      "application/vnd.microsoft.datawrangler.viewer.v0+json": {
       "columns": [
        {
         "name": "Job Title",
         "rawType": "object",
         "type": "string"
        },
        {
         "name": "count",
         "rawType": "int64",
         "type": "integer"
        }
       ],
       "ref": "7c8e432e-d9dd-4057-af99-464e4c90b797",
       "rows": [
        [
         "Director of Marketing",
         "12"
        ],
        [
         "Director of Operations",
         "11"
        ],
        [
         "Senior Business Analyst",
         "10"
        ],
        [
         "Senior Marketing Manager",
         "9"
        ],
        [
         "Senior Marketing Analyst",
         "9"
        ],
        [
         "Junior Business Analyst",
         "8"
        ],
        [
         "Senior Project Manager",
         "7"
        ],
        [
         "Senior Data Scientist",
         "7"
        ],
        [
         "Senior Financial Analyst",
         "7"
        ],
        [
         "Junior Business Development Associate",
         "7"
        ],
        [
         "Junior Financial Analyst",
         "7"
        ],
        [
         "Senior Software Engineer",
         "6"
        ],
        [
         "Senior Product Manager",
         "6"
        ],
        [
         "Junior Marketing Coordinator",
         "6"
        ],
        [
         "Senior Project Coordinator",
         "5"
        ],
        [
         "Junior Operations Analyst",
         "5"
        ],
        [
         "Junior Marketing Specialist",
         "5"
        ],
        [
         "Senior Product Designer",
         "5"
        ],
        [
         "Junior Project Manager",
         "5"
        ],
        [
         "Senior Operations Manager",
         "5"
        ],
        [
         "Senior Financial Manager",
         "5"
        ]
       ],
       "shape": {
        "columns": 1,
        "rows": 21
       }
      },
      "text/plain": [
       "Job Title\n",
       "Director of Marketing                    12\n",
       "Director of Operations                   11\n",
       "Senior Business Analyst                  10\n",
       "Senior Marketing Manager                  9\n",
       "Senior Marketing Analyst                  9\n",
       "Junior Business Analyst                   8\n",
       "Senior Project Manager                    7\n",
       "Senior Data Scientist                     7\n",
       "Senior Financial Analyst                  7\n",
       "Junior Business Development Associate     7\n",
       "Junior Financial Analyst                  7\n",
       "Senior Software Engineer                  6\n",
       "Senior Product Manager                    6\n",
       "Junior Marketing Coordinator              6\n",
       "Senior Project Coordinator                5\n",
       "Junior Operations Analyst                 5\n",
       "Junior Marketing Specialist               5\n",
       "Senior Product Designer                   5\n",
       "Junior Project Manager                    5\n",
       "Senior Operations Manager                 5\n",
       "Senior Financial Manager                  5\n",
       "Name: count, dtype: int64"
      ]
     },
     "execution_count": 44,
     "metadata": {},
     "output_type": "execute_result"
    }
   ],
   "source": [
    "#Displaying the first few rows of the filtered DataFrame \n",
    "df_edited = df.groupby('Job Title').filter(lambda x : len(x)>4)\n",
    "df_edited.info()\n",
    "df_edited['Job Title'].value_counts() "
   ]
  },
  {
   "cell_type": "code",
   "execution_count": 45,
   "id": "5b8d968b",
   "metadata": {},
   "outputs": [],
   "source": [
    "# Displaying the data types after converting 'Job Title' to category\n",
    "df['Job Title'] = df['Job Title'].astype('category')"
   ]
  },
  {
   "cell_type": "code",
   "execution_count": 46,
   "id": "860abcf0",
   "metadata": {},
   "outputs": [
    {
     "data": {
      "application/vnd.microsoft.datawrangler.viewer.v0+json": {
       "columns": [
        {
         "name": "index",
         "rawType": "int64",
         "type": "integer"
        },
        {
         "name": "Age",
         "rawType": "float64",
         "type": "float"
        },
        {
         "name": "Gender",
         "rawType": "object",
         "type": "string"
        },
        {
         "name": "Education Level",
         "rawType": "object",
         "type": "string"
        },
        {
         "name": "Job Title",
         "rawType": "object",
         "type": "string"
        },
        {
         "name": "Years of Experience",
         "rawType": "float64",
         "type": "float"
        },
        {
         "name": "Salary",
         "rawType": "float64",
         "type": "float"
        },
        {
         "name": "Job Title Encoded",
         "rawType": "int8",
         "type": "integer"
        }
       ],
       "ref": "2643b8e0-8e76-40d5-a5ce-8038a4f8e619",
       "rows": [
        [
         "47",
         "45.0",
         "Female",
         "Master's",
         "Director of Marketing",
         "16.0",
         "180000.0",
         "0"
        ],
        [
         "60",
         "51.0",
         "Female",
         "Master's",
         "Director of Operations",
         "23.0",
         "170000.0",
         "1"
        ],
        [
         "63",
         "47.0",
         "Male",
         "PhD",
         "Senior Data Scientist",
         "21.0",
         "180000.0",
         "10"
        ],
        [
         "69",
         "49.0",
         "Female",
         "Master's",
         "Senior Financial Analyst",
         "18.0",
         "150000.0",
         "11"
        ],
        [
         "77",
         "32.0",
         "Male",
         "Master's",
         "Senior Software Engineer",
         "6.0",
         "100000.0",
         "20"
        ]
       ],
       "shape": {
        "columns": 7,
        "rows": 5
       }
      },
      "text/html": [
       "<div>\n",
       "<style scoped>\n",
       "    .dataframe tbody tr th:only-of-type {\n",
       "        vertical-align: middle;\n",
       "    }\n",
       "\n",
       "    .dataframe tbody tr th {\n",
       "        vertical-align: top;\n",
       "    }\n",
       "\n",
       "    .dataframe thead th {\n",
       "        text-align: right;\n",
       "    }\n",
       "</style>\n",
       "<table border=\"1\" class=\"dataframe\">\n",
       "  <thead>\n",
       "    <tr style=\"text-align: right;\">\n",
       "      <th></th>\n",
       "      <th>Age</th>\n",
       "      <th>Gender</th>\n",
       "      <th>Education Level</th>\n",
       "      <th>Job Title</th>\n",
       "      <th>Years of Experience</th>\n",
       "      <th>Salary</th>\n",
       "      <th>Job Title Encoded</th>\n",
       "    </tr>\n",
       "  </thead>\n",
       "  <tbody>\n",
       "    <tr>\n",
       "      <th>47</th>\n",
       "      <td>45.0</td>\n",
       "      <td>Female</td>\n",
       "      <td>Master's</td>\n",
       "      <td>Director of Marketing</td>\n",
       "      <td>16.0</td>\n",
       "      <td>180000.0</td>\n",
       "      <td>0</td>\n",
       "    </tr>\n",
       "    <tr>\n",
       "      <th>60</th>\n",
       "      <td>51.0</td>\n",
       "      <td>Female</td>\n",
       "      <td>Master's</td>\n",
       "      <td>Director of Operations</td>\n",
       "      <td>23.0</td>\n",
       "      <td>170000.0</td>\n",
       "      <td>1</td>\n",
       "    </tr>\n",
       "    <tr>\n",
       "      <th>63</th>\n",
       "      <td>47.0</td>\n",
       "      <td>Male</td>\n",
       "      <td>PhD</td>\n",
       "      <td>Senior Data Scientist</td>\n",
       "      <td>21.0</td>\n",
       "      <td>180000.0</td>\n",
       "      <td>10</td>\n",
       "    </tr>\n",
       "    <tr>\n",
       "      <th>69</th>\n",
       "      <td>49.0</td>\n",
       "      <td>Female</td>\n",
       "      <td>Master's</td>\n",
       "      <td>Senior Financial Analyst</td>\n",
       "      <td>18.0</td>\n",
       "      <td>150000.0</td>\n",
       "      <td>11</td>\n",
       "    </tr>\n",
       "    <tr>\n",
       "      <th>77</th>\n",
       "      <td>32.0</td>\n",
       "      <td>Male</td>\n",
       "      <td>Master's</td>\n",
       "      <td>Senior Software Engineer</td>\n",
       "      <td>6.0</td>\n",
       "      <td>100000.0</td>\n",
       "      <td>20</td>\n",
       "    </tr>\n",
       "  </tbody>\n",
       "</table>\n",
       "</div>"
      ],
      "text/plain": [
       "     Age  Gender Education Level                 Job Title  \\\n",
       "47  45.0  Female        Master's     Director of Marketing   \n",
       "60  51.0  Female        Master's    Director of Operations   \n",
       "63  47.0    Male             PhD     Senior Data Scientist   \n",
       "69  49.0  Female        Master's  Senior Financial Analyst   \n",
       "77  32.0    Male        Master's  Senior Software Engineer   \n",
       "\n",
       "    Years of Experience    Salary  Job Title Encoded  \n",
       "47                 16.0  180000.0                  0  \n",
       "60                 23.0  170000.0                  1  \n",
       "63                 21.0  180000.0                 10  \n",
       "69                 18.0  150000.0                 11  \n",
       "77                  6.0  100000.0                 20  "
      ]
     },
     "execution_count": 46,
     "metadata": {},
     "output_type": "execute_result"
    }
   ],
   "source": [
    "# Displaying the first few rows of the DataFrame after encoding\n",
    "df_edited['Job Title Encoded'] = df_edited['Job Title'].astype('category').cat.codes\n",
    "df_edited.head()\n",
    " "
   ]
  },
  {
   "cell_type": "code",
   "execution_count": 47,
   "id": "8b0c215e",
   "metadata": {},
   "outputs": [
    {
     "data": {
      "application/vnd.microsoft.datawrangler.viewer.v0+json": {
       "columns": [
        {
         "name": "index",
         "rawType": "object",
         "type": "string"
        },
        {
         "name": "0",
         "rawType": "object",
         "type": "unknown"
        }
       ],
       "ref": "e3736ff4-f45e-46b6-9bda-5de9ba7df361",
       "rows": [
        [
         "Age",
         "float64"
        ],
        [
         "Gender",
         "object"
        ],
        [
         "Education Level",
         "object"
        ],
        [
         "Job Title",
         "object"
        ],
        [
         "Years of Experience",
         "float64"
        ],
        [
         "Salary",
         "float64"
        ],
        [
         "Job Title Encoded",
         "int8"
        ]
       ],
       "shape": {
        "columns": 1,
        "rows": 7
       }
      },
      "text/plain": [
       "Age                    float64\n",
       "Gender                  object\n",
       "Education Level         object\n",
       "Job Title               object\n",
       "Years of Experience    float64\n",
       "Salary                 float64\n",
       "Job Title Encoded         int8\n",
       "dtype: object"
      ]
     },
     "execution_count": 47,
     "metadata": {},
     "output_type": "execute_result"
    }
   ],
   "source": [
    "df_edited.dtypes\n",
    "# Displaying the data types of the DataFrame after encoding\n"
   ]
  },
  {
   "cell_type": "code",
   "execution_count": 48,
   "id": "79cda9b0",
   "metadata": {},
   "outputs": [],
   "source": [
    "df_edited['Education Level'] = df_edited['Education Level'].astype('category')\n"
   ]
  },
  {
   "cell_type": "code",
   "execution_count": 49,
   "id": "90182ade",
   "metadata": {},
   "outputs": [
    {
     "data": {
      "application/vnd.microsoft.datawrangler.viewer.v0+json": {
       "columns": [
        {
         "name": "index",
         "rawType": "object",
         "type": "string"
        },
        {
         "name": "0",
         "rawType": "object",
         "type": "unknown"
        }
       ],
       "ref": "e87cc9ad-be7e-4b4a-b4e4-b2cf26bdfa55",
       "rows": [
        [
         "Age",
         "float64"
        ],
        [
         "Gender",
         "object"
        ],
        [
         "Education Level",
         "category"
        ],
        [
         "Job Title",
         "object"
        ],
        [
         "Years of Experience",
         "float64"
        ],
        [
         "Salary",
         "float64"
        ],
        [
         "Job Title Encoded",
         "int8"
        ]
       ],
       "shape": {
        "columns": 1,
        "rows": 7
       }
      },
      "text/plain": [
       "Age                     float64\n",
       "Gender                   object\n",
       "Education Level        category\n",
       "Job Title                object\n",
       "Years of Experience     float64\n",
       "Salary                  float64\n",
       "Job Title Encoded          int8\n",
       "dtype: object"
      ]
     },
     "execution_count": 49,
     "metadata": {},
     "output_type": "execute_result"
    }
   ],
   "source": [
    "df_edited.dtypes"
   ]
  },
  {
   "cell_type": "code",
   "execution_count": 50,
   "id": "866907a7",
   "metadata": {},
   "outputs": [
    {
     "data": {
      "application/vnd.microsoft.datawrangler.viewer.v0+json": {
       "columns": [
        {
         "name": "index",
         "rawType": "int64",
         "type": "integer"
        },
        {
         "name": "Age",
         "rawType": "float64",
         "type": "float"
        },
        {
         "name": "Gender",
         "rawType": "object",
         "type": "string"
        },
        {
         "name": "Education Level",
         "rawType": "category",
         "type": "unknown"
        },
        {
         "name": "Job Title",
         "rawType": "object",
         "type": "string"
        },
        {
         "name": "Years of Experience",
         "rawType": "float64",
         "type": "float"
        },
        {
         "name": "Salary",
         "rawType": "float64",
         "type": "float"
        },
        {
         "name": "Job Title Encoded",
         "rawType": "int8",
         "type": "integer"
        },
        {
         "name": "Eduation Level Encoded",
         "rawType": "int8",
         "type": "integer"
        }
       ],
       "ref": "02706ad7-9e50-466d-9b64-a5074dfa6766",
       "rows": [
        [
         "47",
         "45.0",
         "Female",
         "Master's",
         "Director of Marketing",
         "16.0",
         "180000.0",
         "0",
         "1"
        ],
        [
         "60",
         "51.0",
         "Female",
         "Master's",
         "Director of Operations",
         "23.0",
         "170000.0",
         "1",
         "1"
        ],
        [
         "63",
         "47.0",
         "Male",
         "PhD",
         "Senior Data Scientist",
         "21.0",
         "180000.0",
         "10",
         "2"
        ],
        [
         "69",
         "49.0",
         "Female",
         "Master's",
         "Senior Financial Analyst",
         "18.0",
         "150000.0",
         "11",
         "1"
        ],
        [
         "77",
         "32.0",
         "Male",
         "Master's",
         "Senior Software Engineer",
         "6.0",
         "100000.0",
         "20",
         "1"
        ]
       ],
       "shape": {
        "columns": 8,
        "rows": 5
       }
      },
      "text/html": [
       "<div>\n",
       "<style scoped>\n",
       "    .dataframe tbody tr th:only-of-type {\n",
       "        vertical-align: middle;\n",
       "    }\n",
       "\n",
       "    .dataframe tbody tr th {\n",
       "        vertical-align: top;\n",
       "    }\n",
       "\n",
       "    .dataframe thead th {\n",
       "        text-align: right;\n",
       "    }\n",
       "</style>\n",
       "<table border=\"1\" class=\"dataframe\">\n",
       "  <thead>\n",
       "    <tr style=\"text-align: right;\">\n",
       "      <th></th>\n",
       "      <th>Age</th>\n",
       "      <th>Gender</th>\n",
       "      <th>Education Level</th>\n",
       "      <th>Job Title</th>\n",
       "      <th>Years of Experience</th>\n",
       "      <th>Salary</th>\n",
       "      <th>Job Title Encoded</th>\n",
       "      <th>Eduation Level Encoded</th>\n",
       "    </tr>\n",
       "  </thead>\n",
       "  <tbody>\n",
       "    <tr>\n",
       "      <th>47</th>\n",
       "      <td>45.0</td>\n",
       "      <td>Female</td>\n",
       "      <td>Master's</td>\n",
       "      <td>Director of Marketing</td>\n",
       "      <td>16.0</td>\n",
       "      <td>180000.0</td>\n",
       "      <td>0</td>\n",
       "      <td>1</td>\n",
       "    </tr>\n",
       "    <tr>\n",
       "      <th>60</th>\n",
       "      <td>51.0</td>\n",
       "      <td>Female</td>\n",
       "      <td>Master's</td>\n",
       "      <td>Director of Operations</td>\n",
       "      <td>23.0</td>\n",
       "      <td>170000.0</td>\n",
       "      <td>1</td>\n",
       "      <td>1</td>\n",
       "    </tr>\n",
       "    <tr>\n",
       "      <th>63</th>\n",
       "      <td>47.0</td>\n",
       "      <td>Male</td>\n",
       "      <td>PhD</td>\n",
       "      <td>Senior Data Scientist</td>\n",
       "      <td>21.0</td>\n",
       "      <td>180000.0</td>\n",
       "      <td>10</td>\n",
       "      <td>2</td>\n",
       "    </tr>\n",
       "    <tr>\n",
       "      <th>69</th>\n",
       "      <td>49.0</td>\n",
       "      <td>Female</td>\n",
       "      <td>Master's</td>\n",
       "      <td>Senior Financial Analyst</td>\n",
       "      <td>18.0</td>\n",
       "      <td>150000.0</td>\n",
       "      <td>11</td>\n",
       "      <td>1</td>\n",
       "    </tr>\n",
       "    <tr>\n",
       "      <th>77</th>\n",
       "      <td>32.0</td>\n",
       "      <td>Male</td>\n",
       "      <td>Master's</td>\n",
       "      <td>Senior Software Engineer</td>\n",
       "      <td>6.0</td>\n",
       "      <td>100000.0</td>\n",
       "      <td>20</td>\n",
       "      <td>1</td>\n",
       "    </tr>\n",
       "  </tbody>\n",
       "</table>\n",
       "</div>"
      ],
      "text/plain": [
       "     Age  Gender Education Level                 Job Title  \\\n",
       "47  45.0  Female        Master's     Director of Marketing   \n",
       "60  51.0  Female        Master's    Director of Operations   \n",
       "63  47.0    Male             PhD     Senior Data Scientist   \n",
       "69  49.0  Female        Master's  Senior Financial Analyst   \n",
       "77  32.0    Male        Master's  Senior Software Engineer   \n",
       "\n",
       "    Years of Experience    Salary  Job Title Encoded  Eduation Level Encoded  \n",
       "47                 16.0  180000.0                  0                       1  \n",
       "60                 23.0  170000.0                  1                       1  \n",
       "63                 21.0  180000.0                 10                       2  \n",
       "69                 18.0  150000.0                 11                       1  \n",
       "77                  6.0  100000.0                 20                       1  "
      ]
     },
     "execution_count": 50,
     "metadata": {},
     "output_type": "execute_result"
    }
   ],
   "source": [
    "df_edited['Eduation Level Encoded'] = df_edited['Education Level'].cat.codes\n",
    "# Displaying the first few rows of the DataFrame after encoding education level\n",
    "df_edited.head()"
   ]
  },
  {
   "cell_type": "code",
   "execution_count": 51,
   "id": "7e027399",
   "metadata": {},
   "outputs": [],
   "source": [
    "df_edited['Gender'] = df_edited['Gender'].astype('category')"
   ]
  },
  {
   "cell_type": "code",
   "execution_count": 52,
   "id": "cb9d54c1",
   "metadata": {},
   "outputs": [
    {
     "data": {
      "application/vnd.microsoft.datawrangler.viewer.v0+json": {
       "columns": [
        {
         "name": "index",
         "rawType": "int64",
         "type": "integer"
        },
        {
         "name": "Age",
         "rawType": "float64",
         "type": "float"
        },
        {
         "name": "Gender",
         "rawType": "category",
         "type": "unknown"
        },
        {
         "name": "Education Level",
         "rawType": "category",
         "type": "unknown"
        },
        {
         "name": "Job Title",
         "rawType": "object",
         "type": "string"
        },
        {
         "name": "Years of Experience",
         "rawType": "float64",
         "type": "float"
        },
        {
         "name": "Salary",
         "rawType": "float64",
         "type": "float"
        },
        {
         "name": "Job Title Encoded",
         "rawType": "int8",
         "type": "integer"
        },
        {
         "name": "Eduation Level Encoded",
         "rawType": "int8",
         "type": "integer"
        },
        {
         "name": "Gender Encoded",
         "rawType": "int8",
         "type": "integer"
        }
       ],
       "ref": "6a4ad841-ba81-464e-b282-3aeaad1022b4",
       "rows": [
        [
         "47",
         "45.0",
         "Female",
         "Master's",
         "Director of Marketing",
         "16.0",
         "180000.0",
         "0",
         "1",
         "0"
        ],
        [
         "60",
         "51.0",
         "Female",
         "Master's",
         "Director of Operations",
         "23.0",
         "170000.0",
         "1",
         "1",
         "0"
        ],
        [
         "63",
         "47.0",
         "Male",
         "PhD",
         "Senior Data Scientist",
         "21.0",
         "180000.0",
         "10",
         "2",
         "1"
        ],
        [
         "69",
         "49.0",
         "Female",
         "Master's",
         "Senior Financial Analyst",
         "18.0",
         "150000.0",
         "11",
         "1",
         "0"
        ],
        [
         "77",
         "32.0",
         "Male",
         "Master's",
         "Senior Software Engineer",
         "6.0",
         "100000.0",
         "20",
         "1",
         "1"
        ]
       ],
       "shape": {
        "columns": 9,
        "rows": 5
       }
      },
      "text/html": [
       "<div>\n",
       "<style scoped>\n",
       "    .dataframe tbody tr th:only-of-type {\n",
       "        vertical-align: middle;\n",
       "    }\n",
       "\n",
       "    .dataframe tbody tr th {\n",
       "        vertical-align: top;\n",
       "    }\n",
       "\n",
       "    .dataframe thead th {\n",
       "        text-align: right;\n",
       "    }\n",
       "</style>\n",
       "<table border=\"1\" class=\"dataframe\">\n",
       "  <thead>\n",
       "    <tr style=\"text-align: right;\">\n",
       "      <th></th>\n",
       "      <th>Age</th>\n",
       "      <th>Gender</th>\n",
       "      <th>Education Level</th>\n",
       "      <th>Job Title</th>\n",
       "      <th>Years of Experience</th>\n",
       "      <th>Salary</th>\n",
       "      <th>Job Title Encoded</th>\n",
       "      <th>Eduation Level Encoded</th>\n",
       "      <th>Gender Encoded</th>\n",
       "    </tr>\n",
       "  </thead>\n",
       "  <tbody>\n",
       "    <tr>\n",
       "      <th>47</th>\n",
       "      <td>45.0</td>\n",
       "      <td>Female</td>\n",
       "      <td>Master's</td>\n",
       "      <td>Director of Marketing</td>\n",
       "      <td>16.0</td>\n",
       "      <td>180000.0</td>\n",
       "      <td>0</td>\n",
       "      <td>1</td>\n",
       "      <td>0</td>\n",
       "    </tr>\n",
       "    <tr>\n",
       "      <th>60</th>\n",
       "      <td>51.0</td>\n",
       "      <td>Female</td>\n",
       "      <td>Master's</td>\n",
       "      <td>Director of Operations</td>\n",
       "      <td>23.0</td>\n",
       "      <td>170000.0</td>\n",
       "      <td>1</td>\n",
       "      <td>1</td>\n",
       "      <td>0</td>\n",
       "    </tr>\n",
       "    <tr>\n",
       "      <th>63</th>\n",
       "      <td>47.0</td>\n",
       "      <td>Male</td>\n",
       "      <td>PhD</td>\n",
       "      <td>Senior Data Scientist</td>\n",
       "      <td>21.0</td>\n",
       "      <td>180000.0</td>\n",
       "      <td>10</td>\n",
       "      <td>2</td>\n",
       "      <td>1</td>\n",
       "    </tr>\n",
       "    <tr>\n",
       "      <th>69</th>\n",
       "      <td>49.0</td>\n",
       "      <td>Female</td>\n",
       "      <td>Master's</td>\n",
       "      <td>Senior Financial Analyst</td>\n",
       "      <td>18.0</td>\n",
       "      <td>150000.0</td>\n",
       "      <td>11</td>\n",
       "      <td>1</td>\n",
       "      <td>0</td>\n",
       "    </tr>\n",
       "    <tr>\n",
       "      <th>77</th>\n",
       "      <td>32.0</td>\n",
       "      <td>Male</td>\n",
       "      <td>Master's</td>\n",
       "      <td>Senior Software Engineer</td>\n",
       "      <td>6.0</td>\n",
       "      <td>100000.0</td>\n",
       "      <td>20</td>\n",
       "      <td>1</td>\n",
       "      <td>1</td>\n",
       "    </tr>\n",
       "  </tbody>\n",
       "</table>\n",
       "</div>"
      ],
      "text/plain": [
       "     Age  Gender Education Level                 Job Title  \\\n",
       "47  45.0  Female        Master's     Director of Marketing   \n",
       "60  51.0  Female        Master's    Director of Operations   \n",
       "63  47.0    Male             PhD     Senior Data Scientist   \n",
       "69  49.0  Female        Master's  Senior Financial Analyst   \n",
       "77  32.0    Male        Master's  Senior Software Engineer   \n",
       "\n",
       "    Years of Experience    Salary  Job Title Encoded  Eduation Level Encoded  \\\n",
       "47                 16.0  180000.0                  0                       1   \n",
       "60                 23.0  170000.0                  1                       1   \n",
       "63                 21.0  180000.0                 10                       2   \n",
       "69                 18.0  150000.0                 11                       1   \n",
       "77                  6.0  100000.0                 20                       1   \n",
       "\n",
       "    Gender Encoded  \n",
       "47               0  \n",
       "60               0  \n",
       "63               1  \n",
       "69               0  \n",
       "77               1  "
      ]
     },
     "execution_count": 52,
     "metadata": {},
     "output_type": "execute_result"
    }
   ],
   "source": [
    "df_edited['Gender Encoded'] = df_edited['Gender'].cat.codes\n",
    "df_edited.head()"
   ]
  },
  {
   "cell_type": "code",
   "execution_count": 53,
   "id": "6a009913",
   "metadata": {},
   "outputs": [
    {
     "data": {
      "application/vnd.microsoft.datawrangler.viewer.v0+json": {
       "columns": [
        {
         "name": "index",
         "rawType": "int64",
         "type": "integer"
        },
        {
         "name": "Age",
         "rawType": "float64",
         "type": "float"
        },
        {
         "name": "Years of Experience",
         "rawType": "float64",
         "type": "float"
        },
        {
         "name": "Salary",
         "rawType": "float64",
         "type": "float"
        },
        {
         "name": "Job Title Encoded",
         "rawType": "int8",
         "type": "integer"
        },
        {
         "name": "Eduation Level Encoded",
         "rawType": "int8",
         "type": "integer"
        },
        {
         "name": "Gender Encoded",
         "rawType": "int8",
         "type": "integer"
        }
       ],
       "ref": "316c4361-f293-4d49-8560-505b8c3ae49a",
       "rows": [
        [
         "47",
         "45.0",
         "16.0",
         "180000.0",
         "0",
         "1",
         "0"
        ],
        [
         "60",
         "51.0",
         "23.0",
         "170000.0",
         "1",
         "1",
         "0"
        ],
        [
         "63",
         "47.0",
         "21.0",
         "180000.0",
         "10",
         "2",
         "1"
        ],
        [
         "69",
         "49.0",
         "18.0",
         "150000.0",
         "11",
         "1",
         "0"
        ],
        [
         "77",
         "32.0",
         "6.0",
         "100000.0",
         "20",
         "1",
         "1"
        ]
       ],
       "shape": {
        "columns": 6,
        "rows": 5
       }
      },
      "text/html": [
       "<div>\n",
       "<style scoped>\n",
       "    .dataframe tbody tr th:only-of-type {\n",
       "        vertical-align: middle;\n",
       "    }\n",
       "\n",
       "    .dataframe tbody tr th {\n",
       "        vertical-align: top;\n",
       "    }\n",
       "\n",
       "    .dataframe thead th {\n",
       "        text-align: right;\n",
       "    }\n",
       "</style>\n",
       "<table border=\"1\" class=\"dataframe\">\n",
       "  <thead>\n",
       "    <tr style=\"text-align: right;\">\n",
       "      <th></th>\n",
       "      <th>Age</th>\n",
       "      <th>Years of Experience</th>\n",
       "      <th>Salary</th>\n",
       "      <th>Job Title Encoded</th>\n",
       "      <th>Eduation Level Encoded</th>\n",
       "      <th>Gender Encoded</th>\n",
       "    </tr>\n",
       "  </thead>\n",
       "  <tbody>\n",
       "    <tr>\n",
       "      <th>47</th>\n",
       "      <td>45.0</td>\n",
       "      <td>16.0</td>\n",
       "      <td>180000.0</td>\n",
       "      <td>0</td>\n",
       "      <td>1</td>\n",
       "      <td>0</td>\n",
       "    </tr>\n",
       "    <tr>\n",
       "      <th>60</th>\n",
       "      <td>51.0</td>\n",
       "      <td>23.0</td>\n",
       "      <td>170000.0</td>\n",
       "      <td>1</td>\n",
       "      <td>1</td>\n",
       "      <td>0</td>\n",
       "    </tr>\n",
       "    <tr>\n",
       "      <th>63</th>\n",
       "      <td>47.0</td>\n",
       "      <td>21.0</td>\n",
       "      <td>180000.0</td>\n",
       "      <td>10</td>\n",
       "      <td>2</td>\n",
       "      <td>1</td>\n",
       "    </tr>\n",
       "    <tr>\n",
       "      <th>69</th>\n",
       "      <td>49.0</td>\n",
       "      <td>18.0</td>\n",
       "      <td>150000.0</td>\n",
       "      <td>11</td>\n",
       "      <td>1</td>\n",
       "      <td>0</td>\n",
       "    </tr>\n",
       "    <tr>\n",
       "      <th>77</th>\n",
       "      <td>32.0</td>\n",
       "      <td>6.0</td>\n",
       "      <td>100000.0</td>\n",
       "      <td>20</td>\n",
       "      <td>1</td>\n",
       "      <td>1</td>\n",
       "    </tr>\n",
       "  </tbody>\n",
       "</table>\n",
       "</div>"
      ],
      "text/plain": [
       "     Age  Years of Experience    Salary  Job Title Encoded  \\\n",
       "47  45.0                 16.0  180000.0                  0   \n",
       "60  51.0                 23.0  170000.0                  1   \n",
       "63  47.0                 21.0  180000.0                 10   \n",
       "69  49.0                 18.0  150000.0                 11   \n",
       "77  32.0                  6.0  100000.0                 20   \n",
       "\n",
       "    Eduation Level Encoded  Gender Encoded  \n",
       "47                       1               0  \n",
       "60                       1               0  \n",
       "63                       2               1  \n",
       "69                       1               0  \n",
       "77                       1               1  "
      ]
     },
     "execution_count": 53,
     "metadata": {},
     "output_type": "execute_result"
    }
   ],
   "source": [
    "# Displaying the final DataFrame after dropping unnecessary columns\n",
    "df_final = df_edited.drop(['Gender', 'Education Level', 'Job Title'], axis=1)\n",
    "df_final.head()"
   ]
  },
  {
   "cell_type": "code",
   "execution_count": 54,
   "id": "ce8a7f1c",
   "metadata": {},
   "outputs": [
    {
     "name": "stdout",
     "output_type": "stream",
     "text": [
      "<class 'pandas.core.frame.DataFrame'>\n",
      "Index: 147 entries, 47 to 374\n",
      "Data columns (total 6 columns):\n",
      " #   Column                  Non-Null Count  Dtype  \n",
      "---  ------                  --------------  -----  \n",
      " 0   Age                     147 non-null    float64\n",
      " 1   Years of Experience     147 non-null    float64\n",
      " 2   Salary                  147 non-null    float64\n",
      " 3   Job Title Encoded       147 non-null    int8   \n",
      " 4   Eduation Level Encoded  147 non-null    int8   \n",
      " 5   Gender Encoded          147 non-null    int8   \n",
      "dtypes: float64(3), int8(3)\n",
      "memory usage: 5.0 KB\n"
     ]
    }
   ],
   "source": [
    "# Displaying the final DataFrame's data types\n",
    "df_final.info()"
   ]
  },
  {
   "cell_type": "code",
   "execution_count": 55,
   "id": "299dfd2b",
   "metadata": {},
   "outputs": [],
   "source": [
    "import numpy as np \n",
    "import pickle\n",
    "from sklearn.model_selection import train_test_split\n",
    "from sklearn.linear_model import LinearRegression\n",
    "from sklearn.metrics import mean_squared_error"
   ]
  },
  {
   "cell_type": "code",
   "execution_count": 56,
   "id": "90a8dd8f",
   "metadata": {},
   "outputs": [],
   "source": [
    "# Splitting the data into training and testing sets\n",
    "X = df_final.iloc[:,[0,1,3,4,5]]\n",
    "y = df_final.iloc[:,2]\n",
    " "
   ]
  },
  {
   "cell_type": "code",
   "execution_count": 57,
   "id": "ac214b04",
   "metadata": {},
   "outputs": [],
   "source": [
    "# Creating and training the Linear Regression model\n",
    "X_train, X_test, y_train, y_test = train_test_split(X, y, test_size=0.2)\n"
   ]
  },
  {
   "cell_type": "code",
   "execution_count": 58,
   "id": "422123f2",
   "metadata": {},
   "outputs": [
    {
     "data": {
      "application/vnd.microsoft.datawrangler.viewer.v0+json": {
       "columns": [
        {
         "name": "index",
         "rawType": "int64",
         "type": "integer"
        },
        {
         "name": "Age",
         "rawType": "float64",
         "type": "float"
        },
        {
         "name": "Years of Experience",
         "rawType": "float64",
         "type": "float"
        },
        {
         "name": "Job Title Encoded",
         "rawType": "int8",
         "type": "integer"
        },
        {
         "name": "Eduation Level Encoded",
         "rawType": "int8",
         "type": "integer"
        },
        {
         "name": "Gender Encoded",
         "rawType": "int8",
         "type": "integer"
        }
       ],
       "ref": "35ef41e8-fa85-4e38-b46b-91589bb1bad5",
       "rows": [
        [
         "362",
         "44.0",
         "15.0",
         "9",
         "2",
         "0"
        ],
        [
         "369",
         "33.0",
         "4.0",
         "2",
         "0",
         "1"
        ],
        [
         "122",
         "33.0",
         "5.0",
         "7",
         "0",
         "0"
        ],
        [
         "358",
         "36.0",
         "8.0",
         "14",
         "0",
         "0"
        ],
        [
         "339",
         "33.0",
         "5.0",
         "6",
         "0",
         "1"
        ]
       ],
       "shape": {
        "columns": 5,
        "rows": 5
       }
      },
      "text/html": [
       "<div>\n",
       "<style scoped>\n",
       "    .dataframe tbody tr th:only-of-type {\n",
       "        vertical-align: middle;\n",
       "    }\n",
       "\n",
       "    .dataframe tbody tr th {\n",
       "        vertical-align: top;\n",
       "    }\n",
       "\n",
       "    .dataframe thead th {\n",
       "        text-align: right;\n",
       "    }\n",
       "</style>\n",
       "<table border=\"1\" class=\"dataframe\">\n",
       "  <thead>\n",
       "    <tr style=\"text-align: right;\">\n",
       "      <th></th>\n",
       "      <th>Age</th>\n",
       "      <th>Years of Experience</th>\n",
       "      <th>Job Title Encoded</th>\n",
       "      <th>Eduation Level Encoded</th>\n",
       "      <th>Gender Encoded</th>\n",
       "    </tr>\n",
       "  </thead>\n",
       "  <tbody>\n",
       "    <tr>\n",
       "      <th>362</th>\n",
       "      <td>44.0</td>\n",
       "      <td>15.0</td>\n",
       "      <td>9</td>\n",
       "      <td>2</td>\n",
       "      <td>0</td>\n",
       "    </tr>\n",
       "    <tr>\n",
       "      <th>369</th>\n",
       "      <td>33.0</td>\n",
       "      <td>4.0</td>\n",
       "      <td>2</td>\n",
       "      <td>0</td>\n",
       "      <td>1</td>\n",
       "    </tr>\n",
       "    <tr>\n",
       "      <th>122</th>\n",
       "      <td>33.0</td>\n",
       "      <td>5.0</td>\n",
       "      <td>7</td>\n",
       "      <td>0</td>\n",
       "      <td>0</td>\n",
       "    </tr>\n",
       "    <tr>\n",
       "      <th>358</th>\n",
       "      <td>36.0</td>\n",
       "      <td>8.0</td>\n",
       "      <td>14</td>\n",
       "      <td>0</td>\n",
       "      <td>0</td>\n",
       "    </tr>\n",
       "    <tr>\n",
       "      <th>339</th>\n",
       "      <td>33.0</td>\n",
       "      <td>5.0</td>\n",
       "      <td>6</td>\n",
       "      <td>0</td>\n",
       "      <td>1</td>\n",
       "    </tr>\n",
       "  </tbody>\n",
       "</table>\n",
       "</div>"
      ],
      "text/plain": [
       "      Age  Years of Experience  Job Title Encoded  Eduation Level Encoded  \\\n",
       "362  44.0                 15.0                  9                       2   \n",
       "369  33.0                  4.0                  2                       0   \n",
       "122  33.0                  5.0                  7                       0   \n",
       "358  36.0                  8.0                 14                       0   \n",
       "339  33.0                  5.0                  6                       0   \n",
       "\n",
       "     Gender Encoded  \n",
       "362               0  \n",
       "369               1  \n",
       "122               0  \n",
       "358               0  \n",
       "339               1  "
      ]
     },
     "execution_count": 58,
     "metadata": {},
     "output_type": "execute_result"
    }
   ],
   "source": [
    "X_train.head()"
   ]
  },
  {
   "cell_type": "code",
   "execution_count": 59,
   "id": "5309ac27",
   "metadata": {},
   "outputs": [
    {
     "data": {
      "application/vnd.microsoft.datawrangler.viewer.v0+json": {
       "columns": [
        {
         "name": "index",
         "rawType": "int64",
         "type": "integer"
        },
        {
         "name": "Salary",
         "rawType": "float64",
         "type": "float"
        }
       ],
       "ref": "db832698-5f7f-42f1-b5af-41349a634197",
       "rows": [
        [
         "362",
         "150000.0"
        ],
        [
         "369",
         "60000.0"
        ],
        [
         "122",
         "50000.0"
        ],
        [
         "358",
         "95000.0"
        ],
        [
         "339",
         "70000.0"
        ]
       ],
       "shape": {
        "columns": 1,
        "rows": 5
       }
      },
      "text/plain": [
       "362    150000.0\n",
       "369     60000.0\n",
       "122     50000.0\n",
       "358     95000.0\n",
       "339     70000.0\n",
       "Name: Salary, dtype: float64"
      ]
     },
     "execution_count": 59,
     "metadata": {},
     "output_type": "execute_result"
    }
   ],
   "source": [
    "y_train.head()"
   ]
  },
  {
   "cell_type": "code",
   "execution_count": 60,
   "id": "574e347e",
   "metadata": {},
   "outputs": [
    {
     "data": {
      "text/html": [
       "<style>#sk-container-id-2 {\n",
       "  /* Definition of color scheme common for light and dark mode */\n",
       "  --sklearn-color-text: #000;\n",
       "  --sklearn-color-text-muted: #666;\n",
       "  --sklearn-color-line: gray;\n",
       "  /* Definition of color scheme for unfitted estimators */\n",
       "  --sklearn-color-unfitted-level-0: #fff5e6;\n",
       "  --sklearn-color-unfitted-level-1: #f6e4d2;\n",
       "  --sklearn-color-unfitted-level-2: #ffe0b3;\n",
       "  --sklearn-color-unfitted-level-3: chocolate;\n",
       "  /* Definition of color scheme for fitted estimators */\n",
       "  --sklearn-color-fitted-level-0: #f0f8ff;\n",
       "  --sklearn-color-fitted-level-1: #d4ebff;\n",
       "  --sklearn-color-fitted-level-2: #b3dbfd;\n",
       "  --sklearn-color-fitted-level-3: cornflowerblue;\n",
       "\n",
       "  /* Specific color for light theme */\n",
       "  --sklearn-color-text-on-default-background: var(--sg-text-color, var(--theme-code-foreground, var(--jp-content-font-color1, black)));\n",
       "  --sklearn-color-background: var(--sg-background-color, var(--theme-background, var(--jp-layout-color0, white)));\n",
       "  --sklearn-color-border-box: var(--sg-text-color, var(--theme-code-foreground, var(--jp-content-font-color1, black)));\n",
       "  --sklearn-color-icon: #696969;\n",
       "\n",
       "  @media (prefers-color-scheme: dark) {\n",
       "    /* Redefinition of color scheme for dark theme */\n",
       "    --sklearn-color-text-on-default-background: var(--sg-text-color, var(--theme-code-foreground, var(--jp-content-font-color1, white)));\n",
       "    --sklearn-color-background: var(--sg-background-color, var(--theme-background, var(--jp-layout-color0, #111)));\n",
       "    --sklearn-color-border-box: var(--sg-text-color, var(--theme-code-foreground, var(--jp-content-font-color1, white)));\n",
       "    --sklearn-color-icon: #878787;\n",
       "  }\n",
       "}\n",
       "\n",
       "#sk-container-id-2 {\n",
       "  color: var(--sklearn-color-text);\n",
       "}\n",
       "\n",
       "#sk-container-id-2 pre {\n",
       "  padding: 0;\n",
       "}\n",
       "\n",
       "#sk-container-id-2 input.sk-hidden--visually {\n",
       "  border: 0;\n",
       "  clip: rect(1px 1px 1px 1px);\n",
       "  clip: rect(1px, 1px, 1px, 1px);\n",
       "  height: 1px;\n",
       "  margin: -1px;\n",
       "  overflow: hidden;\n",
       "  padding: 0;\n",
       "  position: absolute;\n",
       "  width: 1px;\n",
       "}\n",
       "\n",
       "#sk-container-id-2 div.sk-dashed-wrapped {\n",
       "  border: 1px dashed var(--sklearn-color-line);\n",
       "  margin: 0 0.4em 0.5em 0.4em;\n",
       "  box-sizing: border-box;\n",
       "  padding-bottom: 0.4em;\n",
       "  background-color: var(--sklearn-color-background);\n",
       "}\n",
       "\n",
       "#sk-container-id-2 div.sk-container {\n",
       "  /* jupyter's `normalize.less` sets `[hidden] { display: none; }`\n",
       "     but bootstrap.min.css set `[hidden] { display: none !important; }`\n",
       "     so we also need the `!important` here to be able to override the\n",
       "     default hidden behavior on the sphinx rendered scikit-learn.org.\n",
       "     See: https://github.com/scikit-learn/scikit-learn/issues/21755 */\n",
       "  display: inline-block !important;\n",
       "  position: relative;\n",
       "}\n",
       "\n",
       "#sk-container-id-2 div.sk-text-repr-fallback {\n",
       "  display: none;\n",
       "}\n",
       "\n",
       "div.sk-parallel-item,\n",
       "div.sk-serial,\n",
       "div.sk-item {\n",
       "  /* draw centered vertical line to link estimators */\n",
       "  background-image: linear-gradient(var(--sklearn-color-text-on-default-background), var(--sklearn-color-text-on-default-background));\n",
       "  background-size: 2px 100%;\n",
       "  background-repeat: no-repeat;\n",
       "  background-position: center center;\n",
       "}\n",
       "\n",
       "/* Parallel-specific style estimator block */\n",
       "\n",
       "#sk-container-id-2 div.sk-parallel-item::after {\n",
       "  content: \"\";\n",
       "  width: 100%;\n",
       "  border-bottom: 2px solid var(--sklearn-color-text-on-default-background);\n",
       "  flex-grow: 1;\n",
       "}\n",
       "\n",
       "#sk-container-id-2 div.sk-parallel {\n",
       "  display: flex;\n",
       "  align-items: stretch;\n",
       "  justify-content: center;\n",
       "  background-color: var(--sklearn-color-background);\n",
       "  position: relative;\n",
       "}\n",
       "\n",
       "#sk-container-id-2 div.sk-parallel-item {\n",
       "  display: flex;\n",
       "  flex-direction: column;\n",
       "}\n",
       "\n",
       "#sk-container-id-2 div.sk-parallel-item:first-child::after {\n",
       "  align-self: flex-end;\n",
       "  width: 50%;\n",
       "}\n",
       "\n",
       "#sk-container-id-2 div.sk-parallel-item:last-child::after {\n",
       "  align-self: flex-start;\n",
       "  width: 50%;\n",
       "}\n",
       "\n",
       "#sk-container-id-2 div.sk-parallel-item:only-child::after {\n",
       "  width: 0;\n",
       "}\n",
       "\n",
       "/* Serial-specific style estimator block */\n",
       "\n",
       "#sk-container-id-2 div.sk-serial {\n",
       "  display: flex;\n",
       "  flex-direction: column;\n",
       "  align-items: center;\n",
       "  background-color: var(--sklearn-color-background);\n",
       "  padding-right: 1em;\n",
       "  padding-left: 1em;\n",
       "}\n",
       "\n",
       "\n",
       "/* Toggleable style: style used for estimator/Pipeline/ColumnTransformer box that is\n",
       "clickable and can be expanded/collapsed.\n",
       "- Pipeline and ColumnTransformer use this feature and define the default style\n",
       "- Estimators will overwrite some part of the style using the `sk-estimator` class\n",
       "*/\n",
       "\n",
       "/* Pipeline and ColumnTransformer style (default) */\n",
       "\n",
       "#sk-container-id-2 div.sk-toggleable {\n",
       "  /* Default theme specific background. It is overwritten whether we have a\n",
       "  specific estimator or a Pipeline/ColumnTransformer */\n",
       "  background-color: var(--sklearn-color-background);\n",
       "}\n",
       "\n",
       "/* Toggleable label */\n",
       "#sk-container-id-2 label.sk-toggleable__label {\n",
       "  cursor: pointer;\n",
       "  display: flex;\n",
       "  width: 100%;\n",
       "  margin-bottom: 0;\n",
       "  padding: 0.5em;\n",
       "  box-sizing: border-box;\n",
       "  text-align: center;\n",
       "  align-items: start;\n",
       "  justify-content: space-between;\n",
       "  gap: 0.5em;\n",
       "}\n",
       "\n",
       "#sk-container-id-2 label.sk-toggleable__label .caption {\n",
       "  font-size: 0.6rem;\n",
       "  font-weight: lighter;\n",
       "  color: var(--sklearn-color-text-muted);\n",
       "}\n",
       "\n",
       "#sk-container-id-2 label.sk-toggleable__label-arrow:before {\n",
       "  /* Arrow on the left of the label */\n",
       "  content: \"▸\";\n",
       "  float: left;\n",
       "  margin-right: 0.25em;\n",
       "  color: var(--sklearn-color-icon);\n",
       "}\n",
       "\n",
       "#sk-container-id-2 label.sk-toggleable__label-arrow:hover:before {\n",
       "  color: var(--sklearn-color-text);\n",
       "}\n",
       "\n",
       "/* Toggleable content - dropdown */\n",
       "\n",
       "#sk-container-id-2 div.sk-toggleable__content {\n",
       "  max-height: 0;\n",
       "  max-width: 0;\n",
       "  overflow: hidden;\n",
       "  text-align: left;\n",
       "  /* unfitted */\n",
       "  background-color: var(--sklearn-color-unfitted-level-0);\n",
       "}\n",
       "\n",
       "#sk-container-id-2 div.sk-toggleable__content.fitted {\n",
       "  /* fitted */\n",
       "  background-color: var(--sklearn-color-fitted-level-0);\n",
       "}\n",
       "\n",
       "#sk-container-id-2 div.sk-toggleable__content pre {\n",
       "  margin: 0.2em;\n",
       "  border-radius: 0.25em;\n",
       "  color: var(--sklearn-color-text);\n",
       "  /* unfitted */\n",
       "  background-color: var(--sklearn-color-unfitted-level-0);\n",
       "}\n",
       "\n",
       "#sk-container-id-2 div.sk-toggleable__content.fitted pre {\n",
       "  /* unfitted */\n",
       "  background-color: var(--sklearn-color-fitted-level-0);\n",
       "}\n",
       "\n",
       "#sk-container-id-2 input.sk-toggleable__control:checked~div.sk-toggleable__content {\n",
       "  /* Expand drop-down */\n",
       "  max-height: 200px;\n",
       "  max-width: 100%;\n",
       "  overflow: auto;\n",
       "}\n",
       "\n",
       "#sk-container-id-2 input.sk-toggleable__control:checked~label.sk-toggleable__label-arrow:before {\n",
       "  content: \"▾\";\n",
       "}\n",
       "\n",
       "/* Pipeline/ColumnTransformer-specific style */\n",
       "\n",
       "#sk-container-id-2 div.sk-label input.sk-toggleable__control:checked~label.sk-toggleable__label {\n",
       "  color: var(--sklearn-color-text);\n",
       "  background-color: var(--sklearn-color-unfitted-level-2);\n",
       "}\n",
       "\n",
       "#sk-container-id-2 div.sk-label.fitted input.sk-toggleable__control:checked~label.sk-toggleable__label {\n",
       "  background-color: var(--sklearn-color-fitted-level-2);\n",
       "}\n",
       "\n",
       "/* Estimator-specific style */\n",
       "\n",
       "/* Colorize estimator box */\n",
       "#sk-container-id-2 div.sk-estimator input.sk-toggleable__control:checked~label.sk-toggleable__label {\n",
       "  /* unfitted */\n",
       "  background-color: var(--sklearn-color-unfitted-level-2);\n",
       "}\n",
       "\n",
       "#sk-container-id-2 div.sk-estimator.fitted input.sk-toggleable__control:checked~label.sk-toggleable__label {\n",
       "  /* fitted */\n",
       "  background-color: var(--sklearn-color-fitted-level-2);\n",
       "}\n",
       "\n",
       "#sk-container-id-2 div.sk-label label.sk-toggleable__label,\n",
       "#sk-container-id-2 div.sk-label label {\n",
       "  /* The background is the default theme color */\n",
       "  color: var(--sklearn-color-text-on-default-background);\n",
       "}\n",
       "\n",
       "/* On hover, darken the color of the background */\n",
       "#sk-container-id-2 div.sk-label:hover label.sk-toggleable__label {\n",
       "  color: var(--sklearn-color-text);\n",
       "  background-color: var(--sklearn-color-unfitted-level-2);\n",
       "}\n",
       "\n",
       "/* Label box, darken color on hover, fitted */\n",
       "#sk-container-id-2 div.sk-label.fitted:hover label.sk-toggleable__label.fitted {\n",
       "  color: var(--sklearn-color-text);\n",
       "  background-color: var(--sklearn-color-fitted-level-2);\n",
       "}\n",
       "\n",
       "/* Estimator label */\n",
       "\n",
       "#sk-container-id-2 div.sk-label label {\n",
       "  font-family: monospace;\n",
       "  font-weight: bold;\n",
       "  display: inline-block;\n",
       "  line-height: 1.2em;\n",
       "}\n",
       "\n",
       "#sk-container-id-2 div.sk-label-container {\n",
       "  text-align: center;\n",
       "}\n",
       "\n",
       "/* Estimator-specific */\n",
       "#sk-container-id-2 div.sk-estimator {\n",
       "  font-family: monospace;\n",
       "  border: 1px dotted var(--sklearn-color-border-box);\n",
       "  border-radius: 0.25em;\n",
       "  box-sizing: border-box;\n",
       "  margin-bottom: 0.5em;\n",
       "  /* unfitted */\n",
       "  background-color: var(--sklearn-color-unfitted-level-0);\n",
       "}\n",
       "\n",
       "#sk-container-id-2 div.sk-estimator.fitted {\n",
       "  /* fitted */\n",
       "  background-color: var(--sklearn-color-fitted-level-0);\n",
       "}\n",
       "\n",
       "/* on hover */\n",
       "#sk-container-id-2 div.sk-estimator:hover {\n",
       "  /* unfitted */\n",
       "  background-color: var(--sklearn-color-unfitted-level-2);\n",
       "}\n",
       "\n",
       "#sk-container-id-2 div.sk-estimator.fitted:hover {\n",
       "  /* fitted */\n",
       "  background-color: var(--sklearn-color-fitted-level-2);\n",
       "}\n",
       "\n",
       "/* Specification for estimator info (e.g. \"i\" and \"?\") */\n",
       "\n",
       "/* Common style for \"i\" and \"?\" */\n",
       "\n",
       ".sk-estimator-doc-link,\n",
       "a:link.sk-estimator-doc-link,\n",
       "a:visited.sk-estimator-doc-link {\n",
       "  float: right;\n",
       "  font-size: smaller;\n",
       "  line-height: 1em;\n",
       "  font-family: monospace;\n",
       "  background-color: var(--sklearn-color-background);\n",
       "  border-radius: 1em;\n",
       "  height: 1em;\n",
       "  width: 1em;\n",
       "  text-decoration: none !important;\n",
       "  margin-left: 0.5em;\n",
       "  text-align: center;\n",
       "  /* unfitted */\n",
       "  border: var(--sklearn-color-unfitted-level-1) 1pt solid;\n",
       "  color: var(--sklearn-color-unfitted-level-1);\n",
       "}\n",
       "\n",
       ".sk-estimator-doc-link.fitted,\n",
       "a:link.sk-estimator-doc-link.fitted,\n",
       "a:visited.sk-estimator-doc-link.fitted {\n",
       "  /* fitted */\n",
       "  border: var(--sklearn-color-fitted-level-1) 1pt solid;\n",
       "  color: var(--sklearn-color-fitted-level-1);\n",
       "}\n",
       "\n",
       "/* On hover */\n",
       "div.sk-estimator:hover .sk-estimator-doc-link:hover,\n",
       ".sk-estimator-doc-link:hover,\n",
       "div.sk-label-container:hover .sk-estimator-doc-link:hover,\n",
       ".sk-estimator-doc-link:hover {\n",
       "  /* unfitted */\n",
       "  background-color: var(--sklearn-color-unfitted-level-3);\n",
       "  color: var(--sklearn-color-background);\n",
       "  text-decoration: none;\n",
       "}\n",
       "\n",
       "div.sk-estimator.fitted:hover .sk-estimator-doc-link.fitted:hover,\n",
       ".sk-estimator-doc-link.fitted:hover,\n",
       "div.sk-label-container:hover .sk-estimator-doc-link.fitted:hover,\n",
       ".sk-estimator-doc-link.fitted:hover {\n",
       "  /* fitted */\n",
       "  background-color: var(--sklearn-color-fitted-level-3);\n",
       "  color: var(--sklearn-color-background);\n",
       "  text-decoration: none;\n",
       "}\n",
       "\n",
       "/* Span, style for the box shown on hovering the info icon */\n",
       ".sk-estimator-doc-link span {\n",
       "  display: none;\n",
       "  z-index: 9999;\n",
       "  position: relative;\n",
       "  font-weight: normal;\n",
       "  right: .2ex;\n",
       "  padding: .5ex;\n",
       "  margin: .5ex;\n",
       "  width: min-content;\n",
       "  min-width: 20ex;\n",
       "  max-width: 50ex;\n",
       "  color: var(--sklearn-color-text);\n",
       "  box-shadow: 2pt 2pt 4pt #999;\n",
       "  /* unfitted */\n",
       "  background: var(--sklearn-color-unfitted-level-0);\n",
       "  border: .5pt solid var(--sklearn-color-unfitted-level-3);\n",
       "}\n",
       "\n",
       ".sk-estimator-doc-link.fitted span {\n",
       "  /* fitted */\n",
       "  background: var(--sklearn-color-fitted-level-0);\n",
       "  border: var(--sklearn-color-fitted-level-3);\n",
       "}\n",
       "\n",
       ".sk-estimator-doc-link:hover span {\n",
       "  display: block;\n",
       "}\n",
       "\n",
       "/* \"?\"-specific style due to the `<a>` HTML tag */\n",
       "\n",
       "#sk-container-id-2 a.estimator_doc_link {\n",
       "  float: right;\n",
       "  font-size: 1rem;\n",
       "  line-height: 1em;\n",
       "  font-family: monospace;\n",
       "  background-color: var(--sklearn-color-background);\n",
       "  border-radius: 1rem;\n",
       "  height: 1rem;\n",
       "  width: 1rem;\n",
       "  text-decoration: none;\n",
       "  /* unfitted */\n",
       "  color: var(--sklearn-color-unfitted-level-1);\n",
       "  border: var(--sklearn-color-unfitted-level-1) 1pt solid;\n",
       "}\n",
       "\n",
       "#sk-container-id-2 a.estimator_doc_link.fitted {\n",
       "  /* fitted */\n",
       "  border: var(--sklearn-color-fitted-level-1) 1pt solid;\n",
       "  color: var(--sklearn-color-fitted-level-1);\n",
       "}\n",
       "\n",
       "/* On hover */\n",
       "#sk-container-id-2 a.estimator_doc_link:hover {\n",
       "  /* unfitted */\n",
       "  background-color: var(--sklearn-color-unfitted-level-3);\n",
       "  color: var(--sklearn-color-background);\n",
       "  text-decoration: none;\n",
       "}\n",
       "\n",
       "#sk-container-id-2 a.estimator_doc_link.fitted:hover {\n",
       "  /* fitted */\n",
       "  background-color: var(--sklearn-color-fitted-level-3);\n",
       "}\n",
       "</style><div id=\"sk-container-id-2\" class=\"sk-top-container\"><div class=\"sk-text-repr-fallback\"><pre>LinearRegression()</pre><b>In a Jupyter environment, please rerun this cell to show the HTML representation or trust the notebook. <br />On GitHub, the HTML representation is unable to render, please try loading this page with nbviewer.org.</b></div><div class=\"sk-container\" hidden><div class=\"sk-item\"><div class=\"sk-estimator fitted sk-toggleable\"><input class=\"sk-toggleable__control sk-hidden--visually\" id=\"sk-estimator-id-2\" type=\"checkbox\" checked><label for=\"sk-estimator-id-2\" class=\"sk-toggleable__label fitted sk-toggleable__label-arrow\"><div><div>LinearRegression</div></div><div><a class=\"sk-estimator-doc-link fitted\" rel=\"noreferrer\" target=\"_blank\" href=\"https://scikit-learn.org/1.6/modules/generated/sklearn.linear_model.LinearRegression.html\">?<span>Documentation for LinearRegression</span></a><span class=\"sk-estimator-doc-link fitted\">i<span>Fitted</span></span></div></label><div class=\"sk-toggleable__content fitted\"><pre>LinearRegression()</pre></div> </div></div></div></div>"
      ],
      "text/plain": [
       "LinearRegression()"
      ]
     },
     "execution_count": 60,
     "metadata": {},
     "output_type": "execute_result"
    }
   ],
   "source": [
    "# Making predictions on the test set\n",
    "reg = LinearRegression()\n",
    "reg.fit(X_train, y_train)"
   ]
  },
  {
   "cell_type": "code",
   "execution_count": 61,
   "id": "449aca89",
   "metadata": {},
   "outputs": [],
   "source": [
    "# Calculating the Mean Squared Error\n",
    "y_pred = reg.predict(X_test)\n"
   ]
  },
  {
   "cell_type": "code",
   "execution_count": 62,
   "id": "56898472",
   "metadata": {},
   "outputs": [],
   "source": [
    "# Displaying the Mean Squared Error\n",
    "err = np.sqrt(mean_squared_error(y_test, y_pred))"
   ]
  },
  {
   "cell_type": "code",
   "execution_count": 63,
   "id": "84961af5",
   "metadata": {},
   "outputs": [
    {
     "data": {
      "text/plain": [
       "(array([ 76640.5088124 , 106168.58582569, 100862.29419338, 144797.8767384 ,\n",
       "         51288.28017717, 159513.59543902, 132439.6982918 ,  81619.00274999,\n",
       "         87633.38804969,  55640.30580673,  42760.33660875,  66436.10177455,\n",
       "         62435.96418193,  63760.30638139, 141538.05521144, 132882.48743057,\n",
       "        132882.48743057,  98397.28896371, 183474.34377071, 181805.94279653,\n",
       "         94964.61363109, 207728.18787772, 154095.03022086, 138164.38592685,\n",
       "        132474.61399762,  54105.17344377,  55256.52271599, 114544.67571785,\n",
       "        187847.57821206,  77397.38875186]),\n",
       " 115     95000.0\n",
       " 119    120000.0\n",
       " 261    120000.0\n",
       " 338    150000.0\n",
       " 330     50000.0\n",
       " 176    140000.0\n",
       " 343    150000.0\n",
       " 77     100000.0\n",
       " 370     85000.0\n",
       " 301     55000.0\n",
       " 189     35000.0\n",
       " 238     70000.0\n",
       " 295     60000.0\n",
       " 156     50000.0\n",
       " 231    120000.0\n",
       " 315    130000.0\n",
       " 288    130000.0\n",
       " 299    100000.0\n",
       " 291    180000.0\n",
       " 88     135000.0\n",
       " 311    100000.0\n",
       " 93     170000.0\n",
       " 341    170000.0\n",
       " 214    130000.0\n",
       " 108    100000.0\n",
       " 247     50000.0\n",
       " 307     50000.0\n",
       " 281     95000.0\n",
       " 217    180000.0\n",
       " 113     90000.0\n",
       " Name: Salary, dtype: float64)"
      ]
     },
     "execution_count": 63,
     "metadata": {},
     "output_type": "execute_result"
    }
   ],
   "source": [
    "y_pred,y_test"
   ]
  },
  {
   "cell_type": "code",
   "execution_count": 64,
   "id": "88bf4b29",
   "metadata": {},
   "outputs": [
    {
     "data": {
      "text/plain": [
       "np.float64(16714.996798182143)"
      ]
     },
     "execution_count": 64,
     "metadata": {},
     "output_type": "execute_result"
    }
   ],
   "source": [
    "err"
   ]
  },
  {
   "cell_type": "code",
   "execution_count": 65,
   "id": "1a1fea55",
   "metadata": {},
   "outputs": [
    {
     "name": "stdout",
     "output_type": "stream",
     "text": [
      "                        0            1\n",
      "0                     Age  1524.446121\n",
      "1     Years of Experience  5281.898496\n",
      "2       Job Title Encoded   383.783091\n",
      "3  Eduation Level Encoded  4003.158245\n",
      "4          Gender Encoded  2433.110176\n",
      "-12966.594333108354\n"
     ]
    }
   ],
   "source": [
    "# Saving the model using pickle\n",
    "print(pd.DataFrame(zip(X.columns,reg.coef_)))\n",
    "print(reg.intercept_)"
   ]
  },
  {
   "cell_type": "code",
   "execution_count": 66,
   "id": "c9e55c67",
   "metadata": {},
   "outputs": [],
   "source": [
    "# Loading the model from the pickle file\n",
    "pickle.dump(reg,open('model.pkl','wb'))"
   ]
  }
 ],
 "metadata": {
  "kernelspec": {
   "display_name": "Python 3",
   "language": "python",
   "name": "python3"
  },
  "language_info": {
   "codemirror_mode": {
    "name": "ipython",
    "version": 3
   },
   "file_extension": ".py",
   "mimetype": "text/x-python",
   "name": "python",
   "nbconvert_exporter": "python",
   "pygments_lexer": "ipython3",
   "version": "3.12.3"
  }
 },
 "nbformat": 4,
 "nbformat_minor": 5
}
